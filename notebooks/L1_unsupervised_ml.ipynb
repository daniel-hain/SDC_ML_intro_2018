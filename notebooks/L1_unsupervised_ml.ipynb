{
 "cells": [
  {
   "cell_type": "code",
   "execution_count": null,
   "metadata": {
    "Rmd_chunk_options": "setup, include=FALSE",
    "autoscroll": false,
    "collapsed": true
   },
   "outputs": [],
   "source": [
    "### Generic preamble\n",
    "options(\"scipen\" =100, \"digits\" = 4) # override R's tendency to use scientific notation\n",
    "Sys.setenv(LANG = \"en\")\n",
    "set.seed(1337)\n",
    "\n",
    "### Clean Workspace (I like to start clean)\n",
    "rm(list=ls()); graphics.off() # get rid of everything in the workspace\n",
    "\n",
    "### Load packages\n",
    "library(knitr) # For display of the markdown\n",
    "\n",
    "### Knitr options\n",
    "opts_chunk$set(warning=FALSE,\n",
    "               message=FALSE,\n",
    "               fig.align=\"center\"\n",
    "               )"
   ]
  },
  {
   "cell_type": "markdown",
   "metadata": {},
   "source": [
    "\n",
    "Load standard packages\n",
    "\n"
   ]
  },
  {
   "cell_type": "code",
   "execution_count": null,
   "metadata": {
    "autoscroll": false,
    "collapsed": true
   },
   "outputs": [],
   "source": [
    "### Load packages  Standard\n",
    "library(tidyverse) # Collection of all the good stuff like dplyr, ggplot2 ect.\n",
    "library(magrittr) # For adittional piping operators\n",
    "library(data.table) # Good format to work with large datasets\n",
    "library(skimr) # Nice descriptives"
   ]
  },
  {
   "cell_type": "markdown",
   "metadata": {},
   "source": [
    "\n",
    "\n",
    "\n",
    "\n",
    "# Machine Learning: Some clarifications\n",
    "\n",
    "## General\n",
    "\n",
    "As with any concept, machine learning may have a slightly different definition, depending on whom you ask. A little compilation of definitions by academics and practioneers alike:\n",
    "\n",
    "* \"Machine Learning at its most basic is the practice of using algorithms to parse data, learn from it, and then make a determination or prediction about something in the world.\" - Nvidia\n",
    "* \"Machine learning is the science of getting computers to act without being explicitly programmed.\" - Stanford\n",
    "* \"Machine learning is based on algorithms that can learn from data without relying on rules-based programming.\"- McKinsey & Co.\n",
    "* \"Machine learning algorithms can figure out how to perform important tasks by generalizing from examples.\" - University of Washington\n",
    "* \"The field of Machine Learning seeks to answer the question \"How can we build computer systems that automatically improve with experience, and what are the fundamental laws that govern all learning processes?\" - Carnegie Mellon University\n",
    "\n",
    "\n",
    "\n",
    "## Supervised vs. Unsupervised ML\n",
    "\n",
    "### An intuitive perspective\n",
    "\n",
    "![](https://raw.githack.com/daniel-hain/SDC_ML_intro_2018/master/notebooks/media/media/m7_super_unsuper2.png){width=750px}\n",
    "\n",
    "### A functional perspective\n",
    "\n",
    "![](https://raw.githack.com/daniel-hain/SDC_ML_intro_2018/master/notebooks/media/m7_super_unsuper.png){width=750px}\n",
    "\n",
    "### Overview over types and classes of algorithms\n",
    "\n",
    "Sometimes, the lines are blurry, given the vast amount of algorithms and techniques, which constantly expands.\n",
    "\n",
    "![](media/m7_ml_map.png){width=1000px}\n",
    "\n",
    "### Supervised ML\n",
    "\n",
    "* Concerned with labeling/classification/input-output-mapping/prediction tasks\n",
    "* Subject of the next session, so stay patient\n",
    "\n",
    "### Unsupervised ML\n",
    "\n",
    "Tasks related to pattern recognition and data exploration, in dase there yet does not exist a right answer or problem structure. Main application\n",
    "\n",
    "1. **Dimensionality reduction:** Finding patterns in the features of the data\n",
    "2. **Clustering:** Finding homogenous subgroups within larger group\n",
    "\n",
    "# Dimensionality Reduction Techniques\n",
    "\n",
    "## Introduction\n",
    "\n",
    "Dimensionality reduction techniques are foremost useful to (you might see it coming) reduce the dimensionality of our data. So, what does that mean? And why should we want to do that?\n",
    "\n",
    "Dimensions here is a synonym for variables, so what we want to really do is have less variables. To do that, we have to find ways to express the same amount of information with fewer, but more information rich variables. This is particularly useful to:\n",
    "\n",
    "* Find patterns in the **features** of the data\n",
    "* Visualization of **high-dimensional** data\n",
    "* **Pre-processing** before supervised learning\n",
    "\n",
    "### Overview over Techniques\n",
    "\n",
    "The type of analysis to be performed depends on the data set formats and structures. The most commonly used DR techniques are:\n",
    "\n",
    "* **Principal Component Analysis (PCA):** Is used to summarize the information contained in a continuous (i.e, quantitative) multivariate data by reducing the dimensionality of the data without loosing important information.\n",
    "* **Correspondence Analysis (CA):** An extension of the principal component analysis suited to analyse a large contingency table formed by two qualitative variables (or categorical data).\n",
    "* **Multiple Correspondence Analysis (MCA):** An adaptation of CA to a data table containing more than two categorical variables.\n",
    "* **Multiple Factor Analysis (MFA):** Dedicated to datasets where variables are organized into groups (qualitative and/or quantitative variables).\n",
    "* **Hierarchical Multiple Factor Analysis (HMFA):** An extension of MFA in a situation where the data are organized into a hierarchical structure.\n",
    "* **Factor Analysis of Mixed Data (FAMD):** A particular case of the MFA, dedicated to analyze a data set containing both quantitative and qualitative variables.\n",
    "\n",
    "![]https://raw.githack.com/daniel-hain/SDC_ML_intro_2018/master/notebooks/media/m7_dim_tech.png){width=750px}\n",
    "\n",
    "### Principal Component Analysis (PCA)\n",
    "\n",
    "#### General\n",
    "\n",
    "* A popular method is principal component analysis (PCA)\n",
    "* Three goals when finding lower dimensional representation of features:\n",
    "     1. Find linear combination of variables to createprincipal components\n",
    "     2. Maintain most variance in the data\n",
    "     3. Principal components are uncorrelated (i.e.orthogonal to each other)\n",
    "\n",
    "#### The math and intuition behind it\n",
    "The mathematics underlying it are somewhat complex, so I won't go into too much detail, but the basics of PCA are as follows: you take a dataset with many variables, and you simplify that dataset by turning your original variables into a smaller number of \"Principal Components\".\n",
    "\n",
    "![](https://raw.githack.com/daniel-hain/SDC_ML_intro_2018/master/notebooks/media/m7_PCA1.png){width=750px}\n",
    "\n",
    "But what are these exactly? Principal Components are the underlying structure in the data. They are the directions where there is the most variance, the directions where the data is most spread out. This means that we try to find the straight line that best spreads the data out when it is projected along it. This is the first principal component, the straight line that shows the most substantial variance in the data.\n",
    "\n",
    "![](https://raw.githack.com/daniel-hain/SDC_ML_intro_2018/master/notebooks/media/m7_PCA2.png){width=750px}\n",
    "\n",
    "Where many variables correlate with one another, they will all contribute strongly to the same principal component. Each principal component sums up a certain percentage of the total variation in the dataset. Where your initial variables are strongly correlated with one another, you will be able to approximate most of the complexity in your dataset with just a few principal components. Usually, the first principal component captures the main similarity in your data, the second the main difference.\n",
    "\n",
    "![](https://raw.githack.com/daniel-hain/SDC_ML_intro_2018/master/notebooks/media/m7_PCA3.png){width=750px}\n",
    "\n",
    "These principal components can be computed via **Eigenvalues** and **Eigenvectors**. Just like many things in life, eigenvectors, and eigenvalues come in pairs: every eigenvector has a corresponding eigenvalue. Simply put, an eigenvector is a direction, such as \"vertical\" or \"45 degrees\", while an eigenvalue is a number telling you how much variance there is in the data in that direction. The eigenvector with the highest eigenvalue is, therefore, the first principal component. The number of eigenvalues and eigenvectors that exits is equal to the number of dimensions the data set has. Consequently, we can reframe a dataset in terms of these eigenvectors and eigenvalues without changing the underlying information.\n",
    "\n",
    "Note that reframing a dataset regarding a set of eigenvalues and eigenvectors does not entail changing the data itself, you're just looking at it from a different angle, which should represent the data better.\n",
    "\n",
    "## Case study: (Digital) Nomad Life\n",
    "\n",
    "### Load, clean and inspect\n",
    "\n",
    "Allright, lets load some data. Here, we will draw from some own work, where we explore the life of digital nomads. The paper is not written, but the preliminary work is summarized in [this presentation](https://aaudk-my.sharepoint.com/:b:/g/personal/dsh_id_aau_dk/ESeuvplEytZCuNBhKGmA4U8BOGpfbGIbilqTGdgQLA4a6A?e=UGRnvR). You probably already know the data from [NomadList](https://nomadlist.com/). Here, we look at the 2017 crawl of city data, which compiles the digital nomads ranking of cities according to a couple of dimensions. Lets take a look.\n",
    "\n",
    "Roman's web-crawl ata is always a bit messy, so we do some little cosmetics upfront.\n",
    "\n",
    "\n"
   ]
  },
  {
   "cell_type": "code",
   "execution_count": null,
   "metadata": {
    "autoscroll": false,
    "collapsed": true
   },
   "outputs": [],
   "source": [
    "data <- fread(\"data/nomad_cities.csv\",\n",
    "              sep=\"\\t\",\n",
    "              dec=\".\",\n",
    "              na.strings=c(\"NA\", \"DotMap(__next__=DotMap())\", \"DotMap()\") )\n",
    "\n",
    "data %<>%\n",
    "  select(-V1, -nomadScore) %>%\n",
    "  select(place, nomad_score, longitude, latitude, everything()) %>%\n",
    "  mutate(racism = if_else(racism > 1, 1, racism))"
   ]
  },
  {
   "cell_type": "markdown",
   "metadata": {},
   "source": [
    "\n",
    "Lets take a look:\n",
    "\n"
   ]
  },
  {
   "cell_type": "code",
   "execution_count": null,
   "metadata": {
    "autoscroll": false,
    "collapsed": true
   },
   "outputs": [],
   "source": [
    "head(data)\n",
    "glimpse(data)"
   ]
  },
  {
   "cell_type": "markdown",
   "metadata": {},
   "source": [
    "\n",
    "Quite a set of interesting features, which are all numerically coded. Lets select the one we want to analyze and organize them a bit. Since it's a lot of variables, I afterwards select only a subset on which we do some graphical exploration.\n",
    "\n"
   ]
  },
  {
   "cell_type": "code",
   "execution_count": null,
   "metadata": {
    "autoscroll": false,
    "collapsed": true
   },
   "outputs": [],
   "source": [
    "# Variables for analysis\n",
    "vars <- c(\"cost_nomad\", \"cost_coworking\", \"cost_expat\", \"coffee_in_cafe\", \"cost_beer\", # costs\n",
    "          \"places_to_work\", \"free_wifi_available\", \"internet_speed\", # work\n",
    "          \"freedom_score\", \"peace_score\", \"safety\", \"fragile_states_index\", \"press_freedom_index\", # safety & freedom\n",
    "          \"female_friendly\", \"lgbt_friendly\", \"friendly_to_foreigners\", \"racism\", # friendly\n",
    "          \"leisure\",\"life_score\",\"nightlife\",\"weed\" # fun\n",
    "          )\n",
    "\n",
    "# Variables for descriptives\n",
    "vars.desc <- c(\"nomad_score\", \"cost_nomad\", \"places_to_work\", \"freedom_score\", \"friendly_to_foreigners\", \"life_score\")\n",
    ""
   ]
  },
  {
   "cell_type": "markdown",
   "metadata": {},
   "source": [
    "\n",
    "\n",
    "Ok, time for some exploration. Here I will introduce the `GGally` package, a wrapper for `ggplot2` which has some functions for very nice visual summaries in matrix form.\n",
    "\n"
   ]
  },
  {
   "cell_type": "code",
   "execution_count": null,
   "metadata": {
    "Rmd_chunk_options": "warning=FALSE,echo=FALSE",
    "autoscroll": false,
    "collapsed": true
   },
   "outputs": [],
   "source": [
    "library(GGally)"
   ]
  },
  {
   "cell_type": "markdown",
   "metadata": {},
   "source": [
    "\n",
    "First, lets look at a classical correlation matrix.\n",
    "\n"
   ]
  },
  {
   "cell_type": "code",
   "execution_count": null,
   "metadata": {
    "Rmd_chunk_options": "fig.width=10,fig.height=10,fig.align='center'",
    "autoscroll": false,
    "collapsed": true
   },
   "outputs": [],
   "source": [
    "ggcorr(data[vars], label = TRUE, label_size = 3, label_round = 2, label_alpha = TRUE)"
   ]
  },
  {
   "cell_type": "markdown",
   "metadata": {},
   "source": [
    "\n",
    "Even cooler, the `ggpairs` function creates you a scatterplot matrix plus all variable distributions and correlations. Before I used the package `PerformanceAnalytics` for that, but I like the ggplot-style more.\n",
    "\n"
   ]
  },
  {
   "cell_type": "code",
   "execution_count": null,
   "metadata": {
    "Rmd_chunk_options": "fig.width=12.5,fig.height=12.5,fig.align='center'",
    "autoscroll": false,
    "collapsed": true
   },
   "outputs": [],
   "source": [
    "ggpairs(data[,vars.desc],\n",
    "        aes(alpha = 0.3),\n",
    "        ggtheme = theme_gray())"
   ]
  },
  {
   "cell_type": "markdown",
   "metadata": {},
   "source": [
    "\n",
    "\n",
    "### Dimensionality reduction\n",
    "\n",
    "To execute the PCA, we'll here use the [`FactoMineR`](http://factominer.free.fr/) package to compute PCA, and  [`factoextra`](https://github.com/kassambara/factoextra) for extracting and visualizing the results. `FactoMineR` is a great and my favorite package for computing principal component methods in R. It's very easy to use and very well documented. There are other alternatives around, but I since quite some time find it to be the most powerful and convenient one. `factoextra` is just a convenient `ggplot` wrapper that easily produces nice and informative diagnistic plots for a variety of DR and clustering techniques.\n",
    "\n"
   ]
  },
  {
   "cell_type": "code",
   "execution_count": null,
   "metadata": {
    "Rmd_chunk_options": "warning=FALSE,echo=FALSE",
    "autoscroll": false,
    "collapsed": true
   },
   "outputs": [],
   "source": [
    "library(FactoMineR)\n",
    "library(factoextra)"
   ]
  },
  {
   "cell_type": "markdown",
   "metadata": {},
   "source": [
    "\n",
    "We realized already that we have some missing values in some obbservations. Normally, we could now do some **missing value imputation** (there are good `R` packages such as `mice` available), but for this tutorial, we skip that step, and do the lazy thing: Just delete all observations with missing values.\n",
    "\n"
   ]
  },
  {
   "cell_type": "code",
   "execution_count": null,
   "metadata": {
    "autoscroll": false,
    "collapsed": true
   },
   "outputs": [],
   "source": [
    "data %<>%\n",
    "  drop_na()"
   ]
  },
  {
   "cell_type": "markdown",
   "metadata": {},
   "source": [
    "\n",
    "\n",
    "Lets do that. Notice the `scale.unit = TRUE` argument, which you should ALWAYS use. Afterwards, we take a look at the resulting list object.\n",
    "\n"
   ]
  },
  {
   "cell_type": "code",
   "execution_count": null,
   "metadata": {
    "autoscroll": false,
    "collapsed": true
   },
   "outputs": [],
   "source": [
    "res.pca <- PCA(data[,vars], scale.unit = TRUE, graph = FALSE)\n",
    "glimpse(res.pca)"
   ]
  },
  {
   "cell_type": "markdown",
   "metadata": {},
   "source": [
    "\n",
    "Ok, lets see look at the \"screeplot\", a diagnostic visualization that displays the variance explained by every component. We here use the `factoextra` package, like for all following visualizations with the `fviz_` prefix. Notice that the output in every case is an `ggplot2` object, which could be complemented with further layers.\n",
    "\n"
   ]
  },
  {
   "cell_type": "code",
   "execution_count": null,
   "metadata": {
    "Rmd_chunk_options": "fig.align='center'",
    "autoscroll": false,
    "collapsed": true
   },
   "outputs": [],
   "source": [
    "fviz_screeplot(res.pca,\n",
    "               addlabels = TRUE,\n",
    "               ncp = 10,\n",
    "               ggtheme = theme_gray())"
   ]
  },
  {
   "cell_type": "markdown",
   "metadata": {},
   "source": [
    "\n",
    "As expected, we see that the first component already captures a main share of the variance. Let's look at the corresponding eigenvalues.\n",
    "\n"
   ]
  },
  {
   "cell_type": "code",
   "execution_count": null,
   "metadata": {
    "autoscroll": false,
    "collapsed": true
   },
   "outputs": [],
   "source": [
    "as_tibble(res.pca$eig)"
   ]
  },
  {
   "cell_type": "markdown",
   "metadata": {},
   "source": [
    "\n",
    "For feature selection, our rule-of-thumb is to only include components with an eigenvalue > 1, meaning that we in this case would have reduced our data to 4 dimensions. Lets project them onto 2-dimensional space and take a look at the vector of our features.\n",
    "\n",
    "\n"
   ]
  },
  {
   "cell_type": "code",
   "execution_count": null,
   "metadata": {
    "Rmd_chunk_options": "fig.width=10,fig.height=10,fig.align='center'",
    "autoscroll": false,
    "collapsed": true
   },
   "outputs": [],
   "source": [
    "fviz_pca_var(res.pca,\n",
    "             alpha.var = \"cos2\",\n",
    "             col.var = \"contrib\",\n",
    "             gradient.cols = c(\"#00AFBB\", \"#E7B800\", \"#FC4E07\"),\n",
    "             repel = TRUE,\n",
    "             ggtheme = theme_gray())"
   ]
  },
  {
   "cell_type": "markdown",
   "metadata": {},
   "source": [
    "\n",
    "We see that they tend to cluster in 3 groups:\n",
    "\n",
    "1. Fun, friendlyness, work (upper right)\n",
    "2. Costs (lower right)\n",
    "3. Safety and stability (left)\n",
    "\n",
    "Lets look at the numeric values.\n",
    "\n"
   ]
  },
  {
   "cell_type": "code",
   "execution_count": null,
   "metadata": {
    "autoscroll": false,
    "collapsed": true
   },
   "outputs": [],
   "source": [
    "get_pca_var(res.pca)\n",
    "as_data_frame(res.pca$var$coord)"
   ]
  },
  {
   "cell_type": "markdown",
   "metadata": {},
   "source": [
    "\n",
    "The results-object also contains the observations loading on the components.\n",
    "\n"
   ]
  },
  {
   "cell_type": "code",
   "execution_count": null,
   "metadata": {
    "autoscroll": false,
    "collapsed": true
   },
   "outputs": [],
   "source": [
    "get_pca_var(res.pca)\n",
    "as_data_frame(head(res.pca$ind$coord))"
   ]
  },
  {
   "cell_type": "markdown",
   "metadata": {},
   "source": [
    "\n",
    "Let's visualize our observations and the variable-loading together in the space of the first 2 components.\n",
    "\n"
   ]
  },
  {
   "cell_type": "code",
   "execution_count": null,
   "metadata": {
    "Rmd_chunk_options": "fig.width=15,fig.height=10,fig.align='center'",
    "autoscroll": false,
    "collapsed": true
   },
   "outputs": [],
   "source": [
    "fviz_pca_biplot(res.pca,\n",
    "                alpha.ind = \"cos2\",\n",
    "                col.ind = \"contrib\",\n",
    "                gradient.cols = c(\"#00AFBB\", \"#E7B800\", \"#FC4E07\"),\n",
    "                geom = \"point\",\n",
    "                ggtheme = theme_gray())"
   ]
  },
  {
   "cell_type": "markdown",
   "metadata": {},
   "source": [
    "\n",
    "\n",
    "We cal also briefly check if our ndimensionality reductions is helpful to differentiate between `nomadscore`.\n",
    "\n"
   ]
  },
  {
   "cell_type": "code",
   "execution_count": null,
   "metadata": {
    "Rmd_chunk_options": "fig.width=10,fig.height=10,fig.align='center'",
    "autoscroll": false,
    "collapsed": true
   },
   "outputs": [],
   "source": [
    "data %<>%\n",
    "  mutate(popular = ifelse(nomad_score > mean(nomad_score), TRUE, FALSE))\n",
    "\n",
    "fviz_pca_biplot(res.pca,\n",
    "                alpha.ind = \"cos2\",\n",
    "                geom = \"point\",\n",
    "                habillage = factor(data$popular),\n",
    "                addEllipses = TRUE,\n",
    "                ggtheme = theme_gray())"
   ]
  },
  {
   "cell_type": "markdown",
   "metadata": {},
   "source": [
    "\n",
    "\n",
    "\n",
    "# Clustering\n",
    "\n",
    "## Introduction\n",
    "\n",
    "### Types of Clustering\n",
    "Clustering can be broadly divided into two subgroups:\n",
    "\n",
    "1. **Hard clustering:** in hard clustering, each data object or point either belongs to a cluster completely or not. For example in the Uber dataset, each location belongs to either one borough or the other.\n",
    "2. **Soft clustering:** in soft clustering, a data point can belong to more than one cluster with some probability or likelihood value. For example, you could identify some locations as the border points belonging to two or more boroughs.\n",
    "\n",
    "Clustering algorithms can also be categorized based on their **cluster model**, that is based on how they form clusters or groups. This tutorial only highlights some of the prominent clustering algorithms.\n",
    "\n",
    "* **Connectivity-based clustering:** the main idea behind this clustering is that data points that are closer in the data space are more related (similar) than to data points farther away. The clusters are formed by connecting data points according to their distance. At different distances, different clusters will form and can be represented using a dendrogram, which gives away why they are also commonly called **hierarchical clustering**. These methods do not produce a unique partitioning of the dataset, rather a hierarchy from which the user still needs to choose appropriate clusters by choosing the level where they want to cluster. Note: They are also not very robust towards outliers, which might show up as additional clusters or even cause other clusters to merge.\n",
    "\n",
    "* **Centroid-based clustering:** in this type of clustering, clusters are represented by a central vector or a centroid. This centroid might not necessarily be a member of the dataset. This is an iterative clustering algorithms in which the notion of similarity is derived by how close a data point is to the centroid of the cluster. **k-means** is a centroid based clustering, and will you see this topic more in detail later on in the tutorial.\n",
    "\n",
    "* **Distribution-based clustering:** this clustering is very closely related to statistics: distributional modeling. Clustering is based on the notion of how probable is it for a data point to belong to a certain distribution, such as the Gaussian distribution, for example. Data points in a cluster belong to the same distribution. These models have a strong theoritical foundation, however they often suffer from overfitting. Gaussian mixture models, using the expectation-maximization algorithm is a famous distribution based clustering method.\n",
    "\n",
    "* **Density-based methods:** search the data space for areas of varied density of data points. Clusters are defined as areas of higher density within the data space compared to other regions. Data points in the sparse areas are usually considered to be noise and/or border points. The drawback with these methods is that they expect some kind of density guide or parameters to detect cluster borders. `DBSCAN` and `OPTICS` are some prominent density based clustering.\n",
    "\n",
    "So, what is the best to use? Hard to say. Clustering is an subjective task and there can be more than one correct clustering algorithm. Every algorithm follows a different set of rules for defining the 'similarity' among data points. The most appropriate clustering algorithm for a particular problem often needs to be chosen experimentally, unless there is a mathematical reason to prefer one clustering algorithm over another. An algorithm might work well on a particular dataset but fail for a different kind of dataset. Since there is most times no wrong or right, the clustering that delivers the most useful results is the way to go.\n",
    "\n",
    "## K-means Clustering\n",
    "K-means clustering is the most commonly used unsupervised machine learning algorithm for dividing a given dataset into `k` clusters, which must be provided by the user. The basic idea behind k-means clustering consists of defining clusters so that the total intra-cluster variation (known as total within-cluster variation) is minimized. There are several k-means algorithms available. However, the standard algorithm defines the total within-cluster variation as the sum of squared distances Euclidean distances between items and the corresponding centroid. Its an iterative process containing the following steps\n",
    "\n",
    "1. Specify `k` - the number of clusters to be created.\n",
    "2. Select randomly `k` objects from the dataset as the initial cluster centers.\n",
    "\n",
    "![](https://raw.githack.com/daniel-hain/SDC_ML_intro_2018/master/notebooks/media/m7_km1.png){width=500px}\n",
    "\n",
    "3. Assign each observation to their closest centroid, based on the Euclidean distance between the object and the centroid.\n",
    "4. For each of the `k` clusters recompute the cluster centroid by calculating the new mean value of all the data points in the cluster.\n",
    "\n",
    "![](https://raw.githack.com/daniel-hain/SDC_ML_intro_2018/master/notebooks/media/m7_km2.png){width=500px}\n",
    "\n",
    "5. Iteratively minimize the total within sum of square. Repeat Step 3 and Step 4, until the centroids do not change or the maximum number of iterations is reached (`R` uses 10 as the default value for the maximum number of iterations).\n",
    "\n",
    "![](https://raw.githack.com/daniel-hain/SDC_ML_intro_2018/master/notebooks/media/m7_km3.png){width=500px}\n",
    "\n",
    "So, lets do that. As already mentioned, we have to upfront choose our `k`. However, there exists some guidance, for example the highest gain in \"total within sum of sqares\" (fast to calculate), the \"siluette\", as well as the \"gap statistics\" (hard to calculate, takes time).\n",
    "\n",
    "\n"
   ]
  },
  {
   "cell_type": "code",
   "execution_count": null,
   "metadata": {
    "Rmd_chunk_options": "fig.align='center'",
    "autoscroll": false,
    "collapsed": true
   },
   "outputs": [],
   "source": [
    "fviz_nbclust(scale(data[,vars]),\n",
    "             kmeans,\n",
    "             method = \"wss\")\n",
    ""
   ]
  },
  {
   "cell_type": "markdown",
   "metadata": {},
   "source": [
    "\n",
    "Ok,w e here settle for 3 (executive desicion). Before we start, something weird upfront. The function takes the observation names from the rownames (which nobody uses anymore, and are depreciated by `dplyr`). So, remeber to define them just straight before you cluster, otherwise the next `dplyr` pipe will delete them again.\n",
    "\n"
   ]
  },
  {
   "cell_type": "code",
   "execution_count": null,
   "metadata": {
    "autoscroll": false,
    "collapsed": true
   },
   "outputs": [],
   "source": [
    "rownames(data) <- data %>% pull(place)"
   ]
  },
  {
   "cell_type": "markdown",
   "metadata": {},
   "source": [
    "\n",
    "Lets run the algorythm.\n",
    "\n"
   ]
  },
  {
   "cell_type": "code",
   "execution_count": null,
   "metadata": {
    "autoscroll": false,
    "collapsed": true
   },
   "outputs": [],
   "source": [
    "km <- kmeans(scale(data[,vars]), centers = 3, nstart = 20)\n",
    "glimpse(km)"
   ]
  },
  {
   "cell_type": "markdown",
   "metadata": {},
   "source": [
    "\n",
    "Again, lets visualize it. To have a meaningful way for 2d visualization, we again project the observations on the space of the first 2 components.\n",
    "\n"
   ]
  },
  {
   "cell_type": "code",
   "execution_count": null,
   "metadata": {
    "Rmd_chunk_options": "fig.width=15,fig.height=10,fig.align='center'",
    "autoscroll": false,
    "collapsed": true
   },
   "outputs": [],
   "source": [
    "fviz_cluster(km, data = data[,vars],\n",
    "             ggtheme = theme_gray())"
   ]
  },
  {
   "cell_type": "markdown",
   "metadata": {},
   "source": [
    "\n",
    "Ok, we got 3 clusters. Let's look what's in them.\n",
    "\n"
   ]
  },
  {
   "cell_type": "code",
   "execution_count": null,
   "metadata": {
    "autoscroll": false,
    "collapsed": true
   },
   "outputs": [],
   "source": [
    "data %>%\n",
    "  bind_cols(cluster = km$cluster) %>%\n",
    "  select(vars.desc, cluster) %>%\n",
    "  group_by(cluster) %>%\n",
    "  mutate(n = n()) %>%\n",
    "  summarise_all(funs(mean))"
   ]
  },
  {
   "cell_type": "markdown",
   "metadata": {},
   "source": [
    "\n",
    "\n",
    "## Hirarchical Clustering\n",
    "\n",
    "### Introduction\n",
    "The key operation in hierarchical agglomerative clustering is to repeatedly combine the two nearest clusters into a larger cluster. There are three key questions that need to be answered first:\n",
    "\n",
    "* How do you represent a cluster of more than one point?\n",
    "* How do you determine the \"nearness\" of clusters?\n",
    "* When do you stop combining clusters?\n",
    "* Hopefully by the end this tutorial you will be able to answer all of these questions. Before applying hierarchical clustering let's have a look at its working:\n",
    "\n",
    "1. It starts by calculating the distance between every pair of observation points and store it in a distance matrix.\n",
    "2. It then puts every point in its own cluster.\n",
    "\n",
    "![](https://raw.githack.com/daniel-hain/SDC_ML_intro_2018/master/notebooks/media/m7_hc1.png){width=500px}\n",
    "\n",
    "3. Then it starts merging the closest pairs of points based on the distances from the distance matrix and as a result the amount of clusters goes down by 1.\n",
    "\n",
    "![](https://raw.githack.com/daniel-hain/SDC_ML_intro_2018/master/notebooks/media/m7_hc2.png){width=500px}\n",
    "\n",
    "4. Then it recomputes the distance between the new cluster and the old ones and stores them in a new distance matrix.\n",
    "5. Lastly it repeats steps 2 and 3 until all the clusters are merged into one single cluster.\n",
    "\n",
    "![](https://raw.githack.com/daniel-hain/SDC_ML_intro_2018/master/notebooks/media/m7_hc3.png){width=500px}\n",
    "\n",
    "There are several ways to measure the distance between clusters in order to decide the rules for clustering, and they are often called Linkage Methods. Some of the common linkage methods are:\n",
    "\n",
    "* **Complete-linkage:** calculates the maximum distance between clusters before merging.\n",
    "* **Single-linkage:** calculates the minimum distance between the clusters before merging. This linkage may be used to detect high values in your dataset which may be outliers as they will be merged at the end.\n",
    "* **Average-linkage:** calculates the average distance between clusters before merging.\n",
    "* **Centroid-linkage:** finds centroid of cluster 1 and centroid of cluster 2, and then calculates the distance between the two before merging (hint: usually not a good idea).\n",
    "\n",
    "The choice of linkage method entirely depends on you and there is no hard and fast method that will always give you good results. Different linkage methods lead to different clusters.\n",
    "\n",
    "Some further practical issues:\n",
    "\n",
    "* Data on different scales can cause undesirable resultsin clustering methods\n",
    "* Solution is to scale data so that features have same mean and standard deviation\n",
    "* Subtract mean of a feature from all observations, Divide each feature by the standard deviation ofthe feature\n",
    "* Normalized features have a mean of zero and a standard deviation of one\n",
    "\n",
    "### Performing a hirarchical clustering\n",
    "However, let's get it started and perform a cluster. We here use the `hcut` function, which includes most of the abovementioned mapproaches as options.\n",
    "\n"
   ]
  },
  {
   "cell_type": "code",
   "execution_count": null,
   "metadata": {
    "autoscroll": false,
    "collapsed": true
   },
   "outputs": [],
   "source": [
    "hc <- hcut(data[,vars], hc_func = \"hclust\", k = 3, stand = TRUE)"
   ]
  },
  {
   "cell_type": "markdown",
   "metadata": {},
   "source": [
    "\n",
    "In hierarchical clustering, you categorize the objects into a hierarchy similar to a tree-like diagram which is called a dendrogram. The distance of split or merge (called height) is shown on the y-axis of the dendrogram below.\n",
    "\n"
   ]
  },
  {
   "cell_type": "code",
   "execution_count": null,
   "metadata": {
    "Rmd_chunk_options": "fig.width=15,fig.height=10,fig.align='center'",
    "autoscroll": false,
    "collapsed": true
   },
   "outputs": [],
   "source": [
    "fviz_dend(hc,\n",
    "          rect = TRUE,\n",
    "          cex = 0.5)"
   ]
  },
  {
   "cell_type": "markdown",
   "metadata": {},
   "source": [
    "\n",
    "**Notice** how the dendrogram is built and every data point finally merges into a single cluster with the height(distance) shown on the y-axis.\n",
    "\n",
    "Let's inspect what's in the clusters.\n",
    "\n"
   ]
  },
  {
   "cell_type": "code",
   "execution_count": null,
   "metadata": {
    "autoscroll": false,
    "collapsed": true
   },
   "outputs": [],
   "source": [
    "data %>%\n",
    "  bind_cols(cluster = hc$cluster) %>%\n",
    "  select(vars.desc, cluster) %>%\n",
    "  group_by(cluster) %>%\n",
    "  mutate(n = n()) %>%\n",
    "  summarise_all(funs(mean))"
   ]
  },
  {
   "cell_type": "markdown",
   "metadata": {},
   "source": [
    "\n",
    "And again visualize them:\n",
    "\n"
   ]
  },
  {
   "cell_type": "code",
   "execution_count": null,
   "metadata": {
    "Rmd_chunk_options": "fig.width=15,fig.height=10,fig.align='center'",
    "autoscroll": false,
    "collapsed": true
   },
   "outputs": [],
   "source": [
    "fviz_cluster(hc, data = data[,vars],\n",
    "             ggtheme = theme_gray())"
   ]
  },
  {
   "cell_type": "markdown",
   "metadata": {},
   "source": [
    "\n",
    "Looks very similar, even though the middle cluster is a bit more sqeezed in between now. We can also use our scatterplot diagnostics again, and color the observations by their cluster assignment.\n",
    "\n"
   ]
  },
  {
   "cell_type": "code",
   "execution_count": null,
   "metadata": {
    "Rmd_chunk_options": "fig.width=15,fig.height=15,fig.align='center'",
    "autoscroll": false,
    "collapsed": true
   },
   "outputs": [],
   "source": [
    "ggpairs(data[,vars.desc],\n",
    "        lower = list(continuous = \"smooth\"),\n",
    "        aes(colour = as.factor(hc$cluster), alpha = 0.4),\n",
    "        progress = FALSE,\n",
    "        ggtheme = theme_gray() )"
   ]
  },
  {
   "cell_type": "markdown",
   "metadata": {},
   "source": [
    "\n",
    "\n",
    "### Hirarchical Clustering based in PCA\n",
    "You might already have wondered: \"COuld one combine a PCA with clustering techniques\"? The answer is: \"Yes!\". In practice, that actually works very fine, and often delivers more robust clusters. So, lets give it a shot. We could do it by hand, but the `HCPC` function already does that for us, and offers also a nice diagnostic viz.\n",
    "\n",
    "\n"
   ]
  },
  {
   "cell_type": "code",
   "execution_count": null,
   "metadata": {
    "autoscroll": false,
    "collapsed": true
   },
   "outputs": [],
   "source": [
    "hcpc <- HCPC(res.pca,\n",
    "             nb.clust = -1, #  self determined: higher relative loss of inertia\n",
    "             graph = FALSE)"
   ]
  },
  {
   "cell_type": "code",
   "execution_count": null,
   "metadata": {
    "Rmd_chunk_options": "fig.width=15,fig.height=10,fig.align='center'",
    "autoscroll": false,
    "collapsed": true
   },
   "outputs": [],
   "source": [
    "plot(hcpc, choice = \"3D.map\")"
   ]
  },
  {
   "cell_type": "markdown",
   "metadata": {},
   "source": [
    "\n",
    "\n",
    "To finish up, lets plot it in a map, simplest way possible.\n",
    "\n"
   ]
  },
  {
   "cell_type": "code",
   "execution_count": null,
   "metadata": {
    "Rmd_chunk_options": "fig.width=15,fig.height=10",
    "autoscroll": false,
    "collapsed": true
   },
   "outputs": [],
   "source": [
    "library(ggmap)\n",
    "mapWorld <- borders(\"world\", colour = \"gray50\", fill = \"gray50\")\n",
    "mp <- ggplot() +   mapWorld\n",
    "mp + geom_point(aes(x = data$longitude, y = data$latitude) , color = hcpc$data.clust$clust)\n",
    ""
   ]
  },
  {
   "cell_type": "markdown",
   "metadata": {},
   "source": [
    "\n",
    "### Note: Comparing with K-Means clustering algorithm\n",
    "You might have heard about the k-means clustering algorithm; if not, take a look at this tutorial. There are many fundamental differences between the two algorithms, although any one can perform better than the other in different cases. Some of the differences are:\n",
    "\n",
    "* **Distance used:** Hierarchical clustering can virtually handle any distance metric while k-means rely on euclidean distances.\n",
    "* **Stability of results:** k-means requires a random step at its initialization that may yield different results if the process is re-run. That wouldn't be the case in hierarchical clustering.\n",
    "* **Number of Clusters:** While you can use elbow plots, Silhouette plot etc. to figure the right number of clusters in k-means, hierarchical too can use all of those but with the added benefit of leveraging the dendrogram for the same.\n",
    "* **Computation Complexity:** K-means is less computationally expensive than hierarchical clustering and can be run on large datasets within a reasonable time frame, which is the main reason k-means is more popular.\n",
    "\n",
    "### Note: Measuring Godness-of-Fit in clusters\n",
    "Perhaps the most important part in any unsupervised learning task is the analysis of the results. After you have performed the clustering using any algorithm and any sets of parameters you need to make sure that you did it right. But how do you determine that?\n",
    "\n",
    "Well, there are many measures to do this, perhaps the most popular one is the Dunn's Index. Dunn's index is the ratio between the minimum inter-cluster distances to the maximum intra-cluster diameter. The diameter of a cluster is the distance between its two furthermost points. In order to have well separated and compact clusters you should aim for a higher Dunn's index.\n",
    "\n",
    "Furthermore, graphical inspection often helps comparing the results of different algorithms and poarameters. [Here](https://cran.r-project.org/web/packages/dendextend/vignettes/Cluster_Analysis.html) you find some advanced diagnostic visualizations for hirarchical clustering.\n",
    "\n",
    "Lastly, a clusters quality is to a large extend determined by its usefulness.\n",
    "\n",
    "* Internal Validity\n",
    "* External Validity\n"
   ]
  }
 ],
 "metadata": {
  "Rmd_header": {
   "author": "Daniel S. Hain (dsh@business.aau.dk)",
   "date": "\today",
   "output": {
    "html_document": {
     "df_print": "paged",
     "number_sections": true,
     "toc": true,
     "toc_float": true
    }
   },
   "title": "L1: Unsupervised Machine Learning"
  },
  "kernelspec": {
   "display_name": "R",
   "language": "R",
   "name": "ir"
  },
  "language_info": {
   "codemirror_mode": "r",
   "file_extension": ".r",
   "mimetype": "text/x-r-source",
   "name": "R",
   "pygments_lexer": "r"
  }
 },
 "nbformat": 4,
 "nbformat_minor": 0
}
