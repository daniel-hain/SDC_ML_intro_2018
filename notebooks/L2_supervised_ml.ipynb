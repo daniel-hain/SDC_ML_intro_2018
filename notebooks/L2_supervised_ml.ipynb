{
 "cells": [
  {
   "cell_type": "code",
   "execution_count": null,
   "metadata": {
    "Rmd_chunk_options": "setup, include=FALSE",
    "autoscroll": false,
    "collapsed": true
   },
   "outputs": [],
   "source": [
    "### Generic preamble\n",
    "options(\"scipen\" =100, \"digits\" = 4) # override R's tendency to use scientific notation\n",
    "Sys.setenv(LANG = \"en\")\n",
    "set.seed(1337)\n",
    "\n",
    "\n",
    "### Clean Workspace (I like to start clean)\n",
    "rm(list=ls()); graphics.off() # get rid of everything in the workspace\n",
    "\n",
    "### Load packages\n",
    "library(knitr) # For display of the markdown\n",
    "\n",
    "### Knitr options\n",
    "opts_chunk$set(warning=FALSE,\n",
    "               message=FALSE,\n",
    "               fig.align=\"center\"\n",
    "               )"
   ]
  },
  {
   "cell_type": "markdown",
   "metadata": {},
   "source": [
    "\n",
    "Load packages\n",
    "\n"
   ]
  },
  {
   "cell_type": "code",
   "execution_count": null,
   "metadata": {
    "autoscroll": false,
    "collapsed": true
   },
   "outputs": [],
   "source": [
    "library(tidyverse) # Collection of all the good stuff like dplyr, ggplot2 ect.\n",
    "library(magrittr)\n",
    "library(data.table) # Good format to work with large datasets\n",
    "library(skimr) # Nice descriptives"
   ]
  },
  {
   "cell_type": "markdown",
   "metadata": {},
   "source": [
    "\n",
    "# Introduction\n",
    "\n",
    "## Contrasting ML&AI with inferential statistics\n",
    "\n",
    "### Inferential Statistics\n",
    "\n",
    "* Mostly interested in producing good **parameter estimates**: Construct models with unbiased estimates of $\\beta$, capturing the relationship  $x$ and $y$.\n",
    "* Supposedly \\enquote{structural} models: Causal effect of directionality $x \\rightarrow y$, robust across a variety of observed as well as up to now unobserved settings.\n",
    "* How: Carefully draw from  theories and empirical findings, apply logical reasoning to formulate hypotheses.\n",
    "* Typically, multivariate testing, cetris paribus.\n",
    "* Main concern: Minimize standard errors $\\epsilon$ of $\\beta$ estimates.\n",
    "* Not overly concerned with overall predictive power (eg. $R^2$) of those models, but about various type of endogeneity issues, leading us to develop sophisticated **identification strategies**\n",
    "\n",
    "\n",
    "### ML\\&AI Approach\n",
    "\n",
    "* To large extend driven by the needs of the private sector $\\rightarrow$ data analysis is gear towards producing good **predictions** of outcomes $\\rightarrow$ fits for $\\hat{y}$, not $\\hat{\\beta}$\n",
    "     * Recommender systems: Amazon, Netflix, Sportify ect.\n",
    "     * Risk scores}: Eg.g likelihood that a particular person has an accident, turns sick, or defaults on their credit.\n",
    "     * Image classification: Finding Cats \\& Dogs online\n",
    "* Often rely on big data (N,$x_i$)\n",
    "* Not overly concerned with the properties of parameter estimates, but very rigorous in optimizing the overall prediction accuracy.\n",
    "* Often more flexibility wrt. the functional form, and non-parametric approaches.\n",
    "* No \"build-in\"\" causality guarantee $\\rightarrow$ verification techniques.\n",
    "* Often sporadically used in econometric procedures, but seen as \"son of a lesser god\".\n",
    "\n",
    "## Issues with ML\n",
    "\n",
    "### Generalization via \"Out-of-Sample-Testing\"\n",
    "\n",
    "With so much freedom wrt. feature selection, functional form ect., models are prone to over-fitting. And no constraints by asymptotic properties, causality and so forth, how can we generalize anything?\n",
    "\n",
    "In ML, generalization is not achived by statistical derivatives and theoretical argumentation, but rather by answering the practical question: **How well would my model perform with new data?** To answer this question, **Out-of-Sample-Testing** is usually taken as solution. Here, you do the following\n",
    "\n",
    "1. Split the dataset in a training and a test sample.\n",
    "2. Fit you regression (train your model) on one dataset\n",
    "     * Optimal: Tune hyperparameters by minimizing loss in a validation set.\n",
    "     * Optimal: Retrain final model configuration on whole training set\n",
    "3. Finally, evaluate predictive power on test sample, on which model is not fitted.\n",
    "\n",
    "An advanced version is a **N-fold-Crossvalidation**, where this process is repeated several time during the **hyperparameter-tuning** phase (more on that later).\n",
    "\n",
    "![](media/m8_cv_steps.png){width=750px}\n",
    "\n",
    "### Model complexity & Hyperparameter Tuning\n",
    "\n",
    "As a rule-of-thumb: Richer and more complex functional forms and algorithms tend to be better in predictign complex real world pattern. This is particularly true for high-dimensional (big) data.\n",
    "\n",
    "![](media/m7_learningmodels.png){width=750px}\n",
    "\n",
    "However, flexible algorithms at one point become so good in mimicing the pattern in our data that they **overfit**, meaning are to much tuned towards a specific dataset and might not reproduce the same accuracy in new data. Therefore, we aim at finding the **sweet spot** of high model complexity yet high-performing out-of-sample predictions\n",
    "\n",
    "![](media/m8_complexity_error.png){width=750px}\n",
    "\n",
    "That we do usually in a process of **hyperparameter-tuning**, where we gear different options the models offer towards high out-of-sample predictive performance. Mathematically speaking, we try to minimize a loss function $L(.)$ (eg. RMSE) the following problem:\n",
    "\n",
    "$$minimize \\underbrace{\\sum_{i=1}^{n}L(f(x_i),y_i),}_{in-sample~loss} ~ over \\overbrace{~ f \\in F ~}^{function~class} subject~to \\underbrace{~ R(f) \\leq c.}_{complexity~restriction}$$\n",
    "\n",
    "\n",
    "\n",
    "# Regression\n",
    "\n",
    "## Introduction (a brief reminder)\n",
    "\n",
    "Lets for a second recap linear regression techniques, foremost the common allrounder and workhorse of statistical research since some 100 years.\n",
    "\n",
    "**OLS = Ordinary Least Squares**\n",
    "\n",
    "**Basic Properties**\n",
    "\n",
    "* Outcome: contionous\n",
    "* Predictors: continous, dichotonomous, categorical\n",
    "* When to use: Predicting a phenomenon that scales and can be measured continuously\n",
    "\n",
    "\n",
    "**Functional form**\n",
    "\n",
    "$$y = \\beta_0 + \\beta_1 x_1 + \\beta_2 x_2 + ... + \\beta_n x_n + \\epsilon $$\n",
    "\n",
    " where:\n",
    "\n",
    "* $y$ = Outcome, $x_i$ = observed value $ID_i$\n",
    "* $\\beta_0$ = Constant\n",
    "* $\\beta_i$ = Estimated effect of $x_i$  on $y$ , slope of the linear function\n",
    "* $\\epsilon$ = Error term\n",
    "\n",
    "And that is what happens. Lets imagine we plot some feature against an outcome we want to predict. OLS will just fit a straight line through your data.\n",
    "\n",
    "![](media/m8_reg1.png#center){width=500px}\n",
    "\n",
    "We do so by minimizing the sum of (squared) errors between our prediction-line and the observed outcome.\n",
    "\n",
    "![](media/m8_reg2.png#center){width=500px}\n",
    "\n",
    "### Executing a regression\n",
    "\n",
    "So, lets get your hand dirty. We will load a standard dataset from `mlbench`, the BostonHousing dataset. It comes as a dataframe with 506 observations on 14 features, the last one `medv` being the outcome:\n",
    "\n",
    "* `crim`\tper capita crime rate by town\n",
    "* `zn`\tproportion of residential land zoned for lots over 25,000 sq.ft\n",
    "* `indus`\tproportion of non-retail business acres per town\n",
    "* `chas`\tCharles River dummy variable (= 1 if tract bounds river; 0 otherwise)\n",
    "* `nox`\tnitric oxides concentration (parts per 110 million)\n",
    "* `rm`\taverage number of rooms per dwelling\n",
    "* `age`\tproportion of owner-occupied units built prior to 1940\n",
    "* `dis`\tweighted distances to five Boston employment centres\n",
    "* `rad`\tindex of accessibility to radial highways\n",
    "* `tax`\tfull-value property-tax rate per USD 10,000\n",
    "* `ptratio`\tpupil-teacher ratio by town\n",
    "* `b`\t1000(B - 0.63)^2 where B is the proportion of blacks by town\n",
    "* `lstat`\tlower status of the population\n",
    "* `medv`\tmedian value of owner-occupied homes in USD 1000's\n",
    "\n",
    "Source: Harrison, D. and Rubinfeld, D.L. \"Hedonic prices and the demand for clean air\", J. Environ. Economics & Management, vol.5, 81-102, 1978.\n",
    "\n",
    "These data have been taken from the [UCI Repository Of Machine Learning Databases](ftp://ftp.ics.uci.edu/pub/machine-learning-databases)\n",
    "\n"
   ]
  },
  {
   "cell_type": "code",
   "execution_count": null,
   "metadata": {
    "autoscroll": false,
    "collapsed": true
   },
   "outputs": [],
   "source": [
    "library(mlbench) # Library including many ML benchmark datasets\n",
    "data(BostonHousing)\n",
    "data <- BostonHousing %>% as_data_frame()\n",
    "rm(BostonHousing)\n",
    "\n",
    "data %<>%\n",
    "  select(medv, everything()) %>%\n",
    "  mutate(chas = as.numeric(chas))"
   ]
  },
  {
   "cell_type": "markdown",
   "metadata": {},
   "source": [
    "\n",
    "Lets inspect the data for a moment.\n",
    "\n"
   ]
  },
  {
   "cell_type": "code",
   "execution_count": null,
   "metadata": {
    "autoscroll": false,
    "collapsed": true
   },
   "outputs": [],
   "source": [
    "head(data)\n",
    "glimpse(data)\n",
    "skim(data) %>% skimr::kable()"
   ]
  },
  {
   "cell_type": "markdown",
   "metadata": {},
   "source": [
    "\n",
    "\n",
    "Ok, us straight run our first linear model with the `lm()` function:\n",
    "\n"
   ]
  },
  {
   "cell_type": "code",
   "execution_count": null,
   "metadata": {
    "autoscroll": false,
    "collapsed": true
   },
   "outputs": [],
   "source": [
    "fit.lm <- lm(medv ~ ., data = data)\n",
    "summary(fit.lm)"
   ]
  },
  {
   "cell_type": "markdown",
   "metadata": {},
   "source": [
    "\n",
    "So, how would you interpret the results? Estimate? P-Value? $R^2$? If you don't know, consider taking the SDS track on Datacamp for statistics basics.\n",
    "\n",
    "However, since this is a predictive exercise, we are foremost interested in how well the model predicts. So, lets use the `predict()` function.\n",
    "\n"
   ]
  },
  {
   "cell_type": "code",
   "execution_count": null,
   "metadata": {
    "autoscroll": false,
    "collapsed": true
   },
   "outputs": [],
   "source": [
    "pred.lm <- predict(fit.lm)\n",
    "head(pred.lm, 10)"
   ]
  },
  {
   "cell_type": "markdown",
   "metadata": {},
   "source": [
    "\n",
    "A common measure of predictive power of regresdsions models is the *Root-Mean-Squared-Error* (RSME), calculate as follows:\n",
    "\n",
    "$$ RMSE = \\sqrt{\\frac{1}{n}\\Sigma_{i=1}^{n}{\\Big(y_i - \\hat{y_i} \\Big)^2}}$$\n",
    "\n",
    "Keep in mind, this rood&squared thingy does nothing with the error term except of transforming negative to positive values. Lets calculate:\n",
    "\n"
   ]
  },
  {
   "cell_type": "code",
   "execution_count": null,
   "metadata": {
    "autoscroll": false,
    "collapsed": true
   },
   "outputs": [],
   "source": [
    "error <-  pull(data, medv) -  pred.lm\n",
    "\n",
    "# Calculate RMSE\n",
    "sqrt(mean(error ^ 2))"
   ]
  },
  {
   "cell_type": "markdown",
   "metadata": {},
   "source": [
    "\n",
    "We can also visualize the error term:\n",
    "\n"
   ]
  },
  {
   "cell_type": "code",
   "execution_count": null,
   "metadata": {
    "Rmd_chunk_options": "fig.width=12.5",
    "autoscroll": false,
    "collapsed": true
   },
   "outputs": [],
   "source": [
    "# Some visualizatiom\n",
    "error %>% as_data_frame() %>%\n",
    "  ggplot(aes(value)) +\n",
    "  geom_histogram()"
   ]
  },
  {
   "cell_type": "markdown",
   "metadata": {},
   "source": [
    "\n",
    "\n",
    "## ML workflows for regression analysis\n",
    "\n",
    "### Define a subset for the hyperparameter tuning\n",
    "However, how well does our OLS model predict out-of-sample? To do so, we have to set up an out-of-sample testing workflow. While that cound be done manually, we will use the (my very favorite) `caret` (=ClassificationAndREgressionTree) package, which has by now grown to be the most popular `R` package for ML, including a standardized ML workflow over more than 100 model classes.\n",
    "\n",
    "First, we will now split our data in a train and test sample. We could create an index for subsetting manually. However, caret provides the nice `createDataPartition()` function, which does that for you. Nice feature is that it takes care that the outcomes (y) are proportionally distrubuted in the subset. That is particularly important in case the outcomes are very unbalanced.\n",
    "\n"
   ]
  },
  {
   "cell_type": "code",
   "execution_count": null,
   "metadata": {
    "autoscroll": false,
    "collapsed": true
   },
   "outputs": [],
   "source": [
    "library(caret)\n",
    "index <- createDataPartition(y = data$medv, p = 0.75, list = FALSE) # 75% to 25% split\n",
    "\n",
    "training <- data[index,]\n",
    "test <- data[-index,]"
   ]
  },
  {
   "cell_type": "markdown",
   "metadata": {},
   "source": [
    "\n",
    "### Preprocessing\n",
    "Before tuning the models, there is still some final preprocessing to do. For typical preprocessing tasks for ML, I like to use the `reciepes` package. It lets you conveniently define a recipe of standard ML preprocessing tasks. Afterwards, we can just can use this recipe to \"bake\" our data, meaning performing all the steps in the recipe. Here, we do only some simple transformations. We normalizizing all numeric data by centering (subtracting the mean) and scaling (divide by standard deviation). Finally, we remove features with zero-variance (we dont have any here, but its a good practice to do that with unknown data).\n",
    "\n"
   ]
  },
  {
   "cell_type": "code",
   "execution_count": null,
   "metadata": {
    "autoscroll": false,
    "collapsed": true
   },
   "outputs": [],
   "source": [
    "library(recipes)\n",
    "reci <- recipe(medv ~ ., data = training) %>%\n",
    "  step_center(all_numeric(), -all_outcomes()) %>%\n",
    "  step_scale(all_numeric(), -all_outcomes()) %>%\n",
    "  step_zv(all_predictors()) %>%\n",
    "  prep(data = train)\n",
    "reci"
   ]
  },
  {
   "cell_type": "markdown",
   "metadata": {},
   "source": [
    "\n",
    "Now we can \"bake\" our data, executing the recipe, and split in outcomes and features (is not necessary, but usually an easier workflow lateron).\n",
    "\n"
   ]
  },
  {
   "cell_type": "code",
   "execution_count": null,
   "metadata": {
    "autoscroll": false,
    "collapsed": true
   },
   "outputs": [],
   "source": [
    "# Training: split in y and x\n",
    "x_train <-bake(reci, newdata = training) %>% select(-medv)\n",
    "y_train <- training %>% pull(medv)\n",
    "\n",
    "# test: split in y and x\n",
    "x_test <-bake(reci, newdata = test) %>% select(-medv)\n",
    "y_test <- test %>% pull(medv)"
   ]
  },
  {
   "cell_type": "code",
   "execution_count": null,
   "metadata": {
    "Rmd_chunk_options": "include = FALSE",
    "autoscroll": false,
    "collapsed": true
   },
   "outputs": [],
   "source": [
    "rm(reci, training, test)"
   ]
  },
  {
   "cell_type": "markdown",
   "metadata": {},
   "source": [
    "\n",
    "\n",
    "### Defining the training and control feature\n",
    "We now get seriously started with the hyperparameter tuning. We will do so in the following way. We here do a n-fold crossvalidation, meaning that we again split the train sample again in n subsamples, on which we both fit and test every hyperparameter configuration. That minimizes the chance that the results are driven by a particular sampling.  Sounds cumbersome. However, for this workflow caret allows us to automatize this workflow with defining a `trainControl()` object, which we pass to every model we fit lateron.\n",
    "\n",
    "Here, we have to define a set of parameters. First, the number of crossvalidations. He here for the sake of time do just 2 (`method = \"cv\", number = 5`), but given enough computing power, RAM and/or time, for a real life calibration, I would recommend 5 or 10 folds. To be even more save, this whole process can be repeated serveral time (`method = \"repeatedcv\", repeats = x`). Be aware, though, that time increases exponentially, which might make a difference when working with large data.\n",
    "\n"
   ]
  },
  {
   "cell_type": "code",
   "execution_count": null,
   "metadata": {
    "autoscroll": false,
    "collapsed": true
   },
   "outputs": [],
   "source": [
    "ctrl <- trainControl(method = \"cv\",\n",
    "                     number = 10)"
   ]
  },
  {
   "cell_type": "markdown",
   "metadata": {},
   "source": [
    "\n",
    "\n",
    "## Hyperparameter Tuning\n",
    "So, we finally start fitting models. The logit we skip in this phase, since it has no tunable parameters.\n",
    "\n",
    "### Linear Regression\n",
    "\n"
   ]
  },
  {
   "cell_type": "code",
   "execution_count": null,
   "metadata": {
    "autoscroll": false,
    "collapsed": true
   },
   "outputs": [],
   "source": [
    "fit.lm <- train(x = x_train,\n",
    "                y = y_train,\n",
    "                trControl = ctrl,\n",
    "                method = \"lm\")\n",
    "summary(fit.lm)\n",
    "fit.lm"
   ]
  },
  {
   "cell_type": "markdown",
   "metadata": {},
   "source": [
    "\n",
    "Notice the higher RMSE compared to the initial in-sample testing example.\n",
    "\n",
    "### Elastic Net\n",
    "The elastic net has the functional form of a generalized linear model, plus an adittional tgerm $\\lambda$ a parameter which penalizes the coefficient by its contribution to the models loss in the form of:\n",
    "\n",
    "$$\\lambda \\sum_{p=1}^{P} [ 1 - \\alpha |\\beta_p| + \\alpha |\\beta_p|^2]$$\n",
    "\n",
    "Here, we have 2 tunable parameters, $\\lambda$ and $\\alpha$.  If $\\alpha = 0$, we are left with $|\\beta_i|$, turning it to a lately among econometricians very popular **Least Absolute Shrinkage and Selection Operator** (LASSO) regression. Obviously, when $\\lambda = 0$, the whole term vanishes, and we are again left with a generalized linear model. The first thing we do now is to set up a tuneGrid, a matrix of value combinations of tunable hyperparameters we aim at optimizing. This is easily done with the base-R `expand.grid()` function.\n",
    "\n"
   ]
  },
  {
   "cell_type": "code",
   "execution_count": null,
   "metadata": {
    "autoscroll": false,
    "collapsed": true
   },
   "outputs": [],
   "source": [
    "tune.glmnet = expand.grid(alpha = seq(0, 1, length = 5),\n",
    "                          lambda = seq(0, 1, length = 5))\n",
    "tune.glmnet"
   ]
  },
  {
   "cell_type": "markdown",
   "metadata": {},
   "source": [
    "\n",
    "Now, we utulize the caret `train` function to carry out the grid search as well as crossvalidation of our model. The train function is a wrapper that uses a huge variety (150+) of models from other packages, and carries out the model fitting workflow. Here, we pass the function our feature and outcome vectors (X, y), the parameters in the formerly defined trainControl object, the metric to be optimized, the model class (here \"glmnet\" from the corresponding package), and our formerly defined tuneGrid. Lets go!\n",
    "\n"
   ]
  },
  {
   "cell_type": "code",
   "execution_count": null,
   "metadata": {
    "autoscroll": false,
    "collapsed": true
   },
   "outputs": [],
   "source": [
    "fit.glmnet <- train(x = x_train,\n",
    "                    y = y_train,\n",
    "                    trControl = ctrl,\n",
    "                    method = \"glmnet\", family = \"gaussian\",\n",
    "                    tuneGrid = tune.glmnet)\n",
    "fit.glmnet"
   ]
  },
  {
   "cell_type": "markdown",
   "metadata": {},
   "source": [
    "\n",
    "We can also plot the results of the hyperparameter tuning.\n",
    "\n"
   ]
  },
  {
   "cell_type": "code",
   "execution_count": null,
   "metadata": {
    "Rmd_chunk_options": "fig.width=12.5,fig.height=10",
    "autoscroll": false,
    "collapsed": true
   },
   "outputs": [],
   "source": [
    "ggplot(fit.glmnet)"
   ]
  },
  {
   "cell_type": "markdown",
   "metadata": {},
   "source": [
    "\n",
    "\n",
    "### Model evaluation\n",
    "So, taking all together, lets see which model performs best out-of-sample:\n",
    "\n"
   ]
  },
  {
   "cell_type": "code",
   "execution_count": null,
   "metadata": {
    "autoscroll": false,
    "collapsed": true
   },
   "outputs": [],
   "source": [
    "pred.lm <-\n",
    "pred.glm <- predict(fit.glmnet, newdata = x_test)\n",
    "\n",
    "# RMSE OLS\n",
    "sqrt(mean( (y_test - predict(fit.lm, newdata = x_test) ) ^ 2))\n",
    "sqrt(mean( (y_test - predict(fit.glmnet, newdata = x_test) ) ^ 2))"
   ]
  },
  {
   "cell_type": "markdown",
   "metadata": {},
   "source": [
    "\n",
    "Notice again the higher RMSE for total out-of-sample testing. Here, the results are pretty similar, so we in fact see noa advantage of variable selection via `glmnet`\n",
    "\n",
    "# ML for Classification\n",
    "\n",
    "## Introduction\n",
    "\n",
    "### Reminder: Model assesments and metrics for classification problems\n",
    "\n",
    "We remeber that the most commonly used performance measure for regression problems is the **RMSE**. However, how to we assess models aimed to solve classification problems? Here, it is not that straightforward, and we could (depending on the task) use different ones.\n",
    "\n",
    "#### The Confusion matrix and its metrics\n",
    "\n",
    "The **Confusion Matrix** (in inferential statistics you would call it **Classification Table**, so don't get confused) is the main source\n",
    "\n",
    "![](media/m8_cf1.jpg){width=750px}\n",
    "\n",
    "It is the `2x2` matrix with the foillowing cells:\n",
    "\n",
    "* **True Positive:** (TP)\n",
    "     * Interpretation: You predicted positive and it's true.\n",
    "     * You predicted that a woman is pregnant and she actually is.\n",
    "* **True Negative:** (TN)\n",
    "     * Interpretation: You predicted negative and it's true.\n",
    "     * You predicted that a man is not pregnant and he actually is not.\n",
    "* **False Positive:** (FP) - (Type 1 Error)\n",
    "     * Interpretation: You predicted positive and it's false.\n",
    "     * You predicted that a man is pregnant but he actually is not.\n",
    "* **False Negative:** (FN) - (Type 2 Error)\n",
    "     * Interpretation: You predicted negative and it's false.\n",
    "     * You predicted that a woman is not pregnant but she actually is.\n",
    "\n",
    "Just remember, We describe predicted values as **Positive** and **Negative** and actual values as **True** and **False**. Out of combinations of these values, we dan derive a set of different quality measures.\n",
    "\n",
    "![](media/m8_metrics2.png){width=750px}\n",
    "\n",
    "**Accuracy** (ACC)\n",
    "$$ {ACC} ={\\frac {\\mathrm {TP} +\\mathrm {TN} }{P+N}}={\\frac {\\mathrm {TP} +\\mathrm {TN} }{\\mathrm {TP} +\\mathrm {TN} +\\mathrm {FP} +\\mathrm {FN} }} $$\n",
    "\n",
    "** Sensitivity,** also called recall, hit rate, or true positive rate (TPR)\n",
    "$$ {TPR} ={\\frac {\\mathrm {TP} }{P}}={\\frac {\\mathrm {TP} }{\\mathrm {TP} +\\mathrm {FN} }}=1-\\mathrm {FNR} $$\n",
    "\n",
    "**Specificity**, also called selectivity or true negative rate (TNR)\n",
    "$$ {TNR} ={\\frac {\\mathrm {TN} }{N}}={\\frac {\\mathrm {TN} }{\\mathrm {TN} +\\mathrm {FP} }}=1-\\mathrm {FPR} $$\n",
    "\n",
    "**Precision**, also called positive predictive value (PPV)\n",
    "$$ {PPV} ={\\frac {\\mathrm {TP} }{\\mathrm {TP} +\\mathrm {FP} }} $$\n",
    "\n",
    "**F1 score**: is the harmonic mean of precision and sensitivity, meaning a weighted average of the true positive rate (recall) and precision.\n",
    "$$ F_{1}=2\\cdot {\\frac {\\mathrm {PPV} \\cdot \\mathrm {TPR} }{\\mathrm {PPV} +\\mathrm {TPR} }}={\\frac {2\\mathrm {TP} }{2\\mathrm {TP} +\\mathrm {FP} +\\mathrm {FN} }} $$\n",
    "\n",
    "So, which one should we use? Answer is: Depends on the problem. Are you more sensitive towards false negative or false positives? Do you have a balanced or unbalanced distribution of classes? Think about it for a moment.\n",
    "\n",
    "\n",
    "#### ROC and AUC\n",
    "An ROC curve (receiver operating characteristic curve, weird name, i know. Comes originally from signal processing) is a derivative of the confusion matrix and predicted class-probabilities.\n",
    "\n",
    "![](media/m8_cf2.jpg){width=750px}\n",
    "\n",
    "So, what does it tell us? The ROC is a graph showing the performance of a classification model at all classification thresholds.  It plots TPR vs. FPR at different classification thresholds. Lowering the classification threshold classifies more items as positive, thus increasing both False Positives and True Positives.\n",
    "\n",
    "![](media/m8_roc1.png){width=750px}\n",
    "\n",
    "**AUC** stands for \"Area under the ROC Curve.\" That is, AUC measures the entire two-dimensional area underneath the entire ROC curve (think integral calculus) from (0,0) to (1,1). It provides an aggregate measure of performance across all possible classification thresholds. One way of interpreting AUC is as the probability that the model ranks a random positive example more highly than a random negative example. AUC ranges in value from 0 to 1. A model whose predictions are 100% wrong has an AUC of 0.0; one whose predictions are 100% correct has an AUC of 1.0.\n",
    "\n",
    "AUC is desirable for the following two reasons:\n",
    "\n",
    "1. AUC is scale-invariant. It measures how well predictions are ranked, rather than their absolute values.\n",
    "2. AUC is classification-threshold-invariant. It measures the quality of the model's predictions irrespective of what classification threshold is chosen.\n",
    "\n",
    "However, both these reasons come with caveats, which may limit the usefulness of AUC in certain use cases:\n",
    "\n",
    "* Scale invariance is not always desirable. For example, sometimes we really do need well calibrated probability outputs, and AUC won't tell us about that.\n",
    "* Classification-threshold invariance is not always desirable. In cases where there are wide disparities in the cost of false negatives vs. false positives, it may be critical to minimize one type of classification error. For example, when doing email spam detection, you likely want to prioritize minimizing false positives (even if that results in a significant increase of false negatives). AUC isn't a useful metric for this type of optimization.\n",
    "\n",
    "## Introduction tom the case\n",
    "\n",
    "![](media/m8_churn.jpg){width=750px}\n",
    "\n",
    "### Digression: Customer Churn: Hurts Sales, Hurts Company\n",
    "Customer churn refers to the situation when a customer ends their relationship with a company, and it's a costly problem. Customers are the fuel that powers a business. Loss of customers impacts sales. Further, it's much more difficult and costly to gain new customers than it is to retain existing customers. As a result, organizations need to focus on reducing customer churn.\n",
    "\n",
    "The good news is that machine learning can help. For many businesses that offer subscription based services, it's critical to both predict customer churn and explain what features relate to customer churn.\n",
    "\n",
    "### IBM Watson Dataset\n",
    "We now dive into the IBM Watson Telco Dataset. According to IBM, the business challenge is.\n",
    "\n",
    "> A telecommunications company [Telco] is concerned about the number of customers leaving their landline business for cable competitors. They need to understand who is leaving. Imagine that you're an analyst at this company and you have to find out who is leaving and why.\n",
    "\n",
    "The dataset includes information about:\n",
    "\n",
    "* Customers who left within the last month: `Churn`\n",
    "* Services that each customer has signed up for: phone, multiple lines, internet, online security, online backup, device protection, tech support, and streaming TV and movies\n",
    "* Customer account information: how long they've been a customer, contract, payment method, paperless billing, monthly charges, and total charges\n",
    "* Demographic info about customers: gender, age range, and if they have partners and dependents\n",
    "Lets load it:\n",
    "\n"
   ]
  },
  {
   "cell_type": "code",
   "execution_count": null,
   "metadata": {
    "autoscroll": false,
    "collapsed": true
   },
   "outputs": [],
   "source": [
    "rm(list=ls()); graphics.off() # get rid of everything in the workspace\n",
    "data <- readRDS(\"data/telco_churn.rds\")"
   ]
  },
  {
   "cell_type": "markdown",
   "metadata": {},
   "source": [
    "\n",
    "\n",
    "## Data Inspection, exploration, preprocessing\n",
    "\n",
    "Lets inspect our data\n",
    "\n"
   ]
  },
  {
   "cell_type": "code",
   "execution_count": null,
   "metadata": {
    "autoscroll": false,
    "collapsed": true
   },
   "outputs": [],
   "source": [
    "head(data)\n",
    "glimpse(data)\n",
    "skim(data) %>% skimr::kable()"
   ]
  },
  {
   "cell_type": "markdown",
   "metadata": {},
   "source": [
    "\n",
    "Lets do right away some preprocessing, and drop the customer ID, which we do not need. Let's also say we're lazy today, so we just prop observations with missing features (not good practice).\n",
    "\n"
   ]
  },
  {
   "cell_type": "code",
   "execution_count": null,
   "metadata": {
    "autoscroll": false,
    "collapsed": true
   },
   "outputs": [],
   "source": [
    "data %<>%\n",
    "  select(-customerID) %>%\n",
    "  drop_na() %>%\n",
    "  select(Churn, everything())"
   ]
  },
  {
   "cell_type": "markdown",
   "metadata": {},
   "source": [
    "\n",
    "\n",
    "Next, lets have a first visual inspections. Many models in our prediction exercise to follow require the conditional distribution of the features to be different for the outcomes states to be predicted. So, lets take a look. Here, `ggplot2` plus the `ggridges` package is my favorite.\n",
    "\n",
    "\n"
   ]
  },
  {
   "cell_type": "code",
   "execution_count": null,
   "metadata": {
    "Rmd_chunk_options": "fig.height=7.5,fig.width=12.5",
    "autoscroll": false,
    "collapsed": true
   },
   "outputs": [],
   "source": [
    "require(ggridges)\n",
    "data %>%\n",
    "  gather(variable, value, -Churn) %>%\n",
    "  ggplot(aes(y = as.factor(variable),\n",
    "             fill =  as.factor(Churn),\n",
    "             x = percent_rank(value)) ) +\n",
    "  geom_density_ridges(alpha = 0.75)"
   ]
  },
  {
   "cell_type": "markdown",
   "metadata": {},
   "source": [
    "\n",
    "\n",
    "Again, we split in a training and test dataset.\n",
    "\n"
   ]
  },
  {
   "cell_type": "code",
   "execution_count": null,
   "metadata": {
    "autoscroll": false,
    "collapsed": true
   },
   "outputs": [],
   "source": [
    "library(caret)\n",
    "index <- createDataPartition(y = data$Churn, p = 0.75, list = FALSE)\n",
    "\n",
    "training <- data[index,]\n",
    "test <- data[-index,]"
   ]
  },
  {
   "cell_type": "markdown",
   "metadata": {},
   "source": [
    "\n",
    "We already see the numeric variable `TotalCharges` appears to be right skewed. That is not a problem for predictive modeling per se, yet some transformation might increase still its predictive power. Lets see. The easiest approximation is just to check the correlation.\n",
    "\n"
   ]
  },
  {
   "cell_type": "code",
   "execution_count": null,
   "metadata": {
    "autoscroll": false,
    "collapsed": true
   },
   "outputs": [],
   "source": [
    "library(corrr)\n",
    "training %>%\n",
    "  select(Churn, TotalCharges) %>%\n",
    "  mutate(\n",
    "    Churn = Churn %>% as.factor() %>% as.numeric(),\n",
    "    LogTotalCharges = log(TotalCharges)\n",
    "  ) %>%\n",
    "  correlate() %>%\n",
    "  focus(Churn) %>%\n",
    "  fashion()"
   ]
  },
  {
   "cell_type": "markdown",
   "metadata": {},
   "source": [
    "\n",
    "Allright, seems as if it could be worth it. Now we can already write down or recipe.\n",
    "\n"
   ]
  },
  {
   "cell_type": "code",
   "execution_count": null,
   "metadata": {
    "autoscroll": false,
    "collapsed": true
   },
   "outputs": [],
   "source": [
    "library(recipes)\n",
    "reci <- recipe(Churn ~ ., data = training) %>%\n",
    "  step_discretize(tenure, options = list(cuts = 6)) %>%\n",
    "  step_log(TotalCharges) %>%\n",
    "  step_dummy(all_nominal(), -all_outcomes()) %>%\n",
    "  step_center(all_predictors(), -all_outcomes()) %>%\n",
    "  step_scale(all_predictors(), -all_outcomes()) %>%\n",
    "  prep(data = training)\n",
    "\n",
    "reci"
   ]
  },
  {
   "cell_type": "markdown",
   "metadata": {},
   "source": [
    "\n",
    "Now we just split again in predictors and outcomes, bake it all, and we are good to go.\n",
    "\n"
   ]
  },
  {
   "cell_type": "code",
   "execution_count": null,
   "metadata": {
    "autoscroll": false,
    "collapsed": true
   },
   "outputs": [],
   "source": [
    "# Predictors\n",
    "x_train <- bake(reci, newdata = training) %>% select(-Churn)\n",
    "x_test  <- bake(reci, newdata = test) %>% select(-Churn)\n",
    "\n",
    "# Response variables for training and testing sets\n",
    "y_train <- pull(training, Churn) %>% as.factor()\n",
    "y_test  <- pull(test, Churn) %>% as.factor()"
   ]
  },
  {
   "cell_type": "markdown",
   "metadata": {},
   "source": [
    "\n",
    "We again define a `trainControl()` object. However, now we need some adittional parameters.\n",
    "\n"
   ]
  },
  {
   "cell_type": "code",
   "execution_count": null,
   "metadata": {
    "autoscroll": false,
    "collapsed": true
   },
   "outputs": [],
   "source": [
    "ctrl <- trainControl(method = \"repeatedcv\", # repeatedcv, boot, cv, LOOCV, timeslice OR adaptive etc.\n",
    "                     number = 5, # Number of CV's\n",
    "                     repeats = 3, # Number or repeats -> repeats * CV's\n",
    "                     classProbs = TRUE, # Include probability of class prediction\n",
    "                     summaryFunction = twoClassSummary, # Which type of summary statistics to deliver\n",
    "                     returnData = FALSE, # Don't include the original data in the train() output\n",
    "                     returnResamp = \"final\", # Impåortant for resampling later\n",
    "                     savePredictions = \"final\", # The predictions of every tune or only the final to be saved?\n",
    "                     allowParallel = TRUE, # For parallel processing\n",
    "                     verboseIter = FALSE)\n",
    "\n",
    "metric <- \"ROC\" # Which metric should be optimized (more on that later)"
   ]
  },
  {
   "cell_type": "markdown",
   "metadata": {},
   "source": [
    "\n",
    "### Standard logistic regression\n",
    "Lets run the common allrounder first:\n",
    "\n"
   ]
  },
  {
   "cell_type": "code",
   "execution_count": null,
   "metadata": {
    "autoscroll": false,
    "collapsed": true
   },
   "outputs": [],
   "source": [
    "fit.logit <- train(x = x_train,\n",
    "                   y = y_train,\n",
    "                   trControl = ctrl,\n",
    "                   metric = metric,\n",
    "                   method = \"glm\", family = \"binomial\")\n",
    "fit.logit\n",
    "summary(fit.logit)"
   ]
  },
  {
   "cell_type": "markdown",
   "metadata": {},
   "source": [
    "\n",
    "### Elastic net\n",
    "We can surely also run an elasticnet with an logit-link (`family = \"binomial`). Now, we utulize the caret `train()` function to carry out the grid search as well as crossvalidation of our model. The train function is a wrapper that uses a huge variety (150+) of models from other packages, and carries out the model fitting workflow. Here, we pass the function our feature and outcome vectors (X, y), the parameters in the formerly defined trainControl object, the metric to be optimized, the model class (here \"glmnet\" from the corresponding package), and our formerly defined tuneGrid. Lets go!\n",
    "\n"
   ]
  },
  {
   "cell_type": "code",
   "execution_count": null,
   "metadata": {
    "autoscroll": false,
    "collapsed": true
   },
   "outputs": [],
   "source": [
    "tune.glmnet = expand.grid(alpha = seq(0, 1, length = 3),\n",
    "                          lambda = seq(0, 0.3, length = 7))\n",
    "\n",
    "fit.glmnet <- train(x = x_train,\n",
    "                    y = y_train,\n",
    "                    trControl = ctrl,\n",
    "                    metric = metric,\n",
    "                    method = \"glmnet\", family = \"binomial\",\n",
    "                    tuneGrid = tune.glmnet)\n",
    "fit.glmnet"
   ]
  },
  {
   "cell_type": "markdown",
   "metadata": {},
   "source": [
    "\n",
    "We can also plot the results.\n",
    "\n"
   ]
  },
  {
   "cell_type": "code",
   "execution_count": null,
   "metadata": {
    "Rmd_chunk_options": "fig.width=10",
    "autoscroll": false,
    "collapsed": true
   },
   "outputs": [],
   "source": [
    "ggplot(fit.glmnet)"
   ]
  },
  {
   "cell_type": "markdown",
   "metadata": {},
   "source": [
    "\n",
    "### Decision tree\n",
    "\n",
    "#### Introduction\n",
    "Ok, next we will do the same exercise for a classification tree. Some brief reminder what this interesting family of models is about:\n",
    "\n",
    "* Mostly used in classification problems on continuous or categorical variables.\n",
    "* Idea: split the population or sample into two or more homogeneous sets (or sub-populations) based on most significant splitter / differentiator in input variables.\n",
    "* Repeat till stop criterium reachesd. leads to a tree-like structure.\n",
    "\n",
    "![](media/m8_regtree0.png){width=750px}\n",
    "\n",
    "This class became increasingly popular in business and other applications. Some reasons are:\n",
    "\n",
    "* Easy to Understand: Decision tree output is very easy to understand even for people from non-analytical background.\n",
    "* Useful in Data exploration: Decision tree is one of the fastest way to identify most significant variables and relation between two or more variables.\n",
    "* Data type is not a constraint: It can handle both numerical and categorical variables.\n",
    "* Non Parametric Method: Decision tree is considered to be a non-parametric method. This means that decision trees have no assumptions about the space distribution and the classifier structure.\n",
    "\n",
    "\n",
    "Some tree terminology:\n",
    "\n",
    "* **Root Node:** Entire population or sample and this further gets divided into two or more homogeneous sets.\n",
    "* **Splitting:** It is a process of dividing a node into two or more sub-nodes.\n",
    "* **Decision Node:** When a sub-node splits into further sub-nodes, then it is called decision node.\n",
    "* **Leaf/ Terminal Node:** Nodes do not split is called Leaf or Terminal node.\n",
    "\n",
    "![](media/m8_regtree2.png){width=750px}\n",
    "\n",
    "\n",
    "The decision of making strategic splits heavily affects a tree's accuracy. So, How does the tree decide to split? This is different across the large family of tree-like models. Common approaches:\n",
    "\n",
    "* Gini Index\n",
    "* $\\chi^2$\n",
    "* Reduction in $\\sigma^2$\n",
    "\n",
    "Some common complexity restrictions are:\n",
    "\n",
    "* Minimum samples for a node split\n",
    "* Minimum samples for a terminal node (leaf)\n",
    "* Maximum depth of tree (vertical depth)\n",
    "* Maximum number of terminal nodes\n",
    "* Maximum features to consider for split\n",
    "\n",
    "![](media/m8_regtree1.png){width=750px}\n",
    "\n",
    "Likewise, there are a veriety of tunable hyperparameters across different applications of this model family.\n",
    "\n",
    "![](media/m8_regtree3.png){width=750px}\n",
    "\n",
    "#### Application\n",
    "Ok, lets run it! We here use `rpart`, but there is a huge variety available. This one has only one tunable parameter. Here we are able to restrict the complexity via a hyperparameter cp. This parameter represents the complexity costs of every split, and allows further splits only if it leads to an decrease in model loss below this threshold.\n",
    "\n",
    "\n"
   ]
  },
  {
   "cell_type": "code",
   "execution_count": null,
   "metadata": {
    "autoscroll": false,
    "collapsed": true
   },
   "outputs": [],
   "source": [
    "library(rpart)\n",
    "tune.dt = expand.grid(cp = c(0.001, 0.005 ,0.010, 0.020, 0.040))\n",
    "\n",
    "fit.dt <- train(x = x_train,\n",
    "                y = y_train,\n",
    "                trControl = ctrl,\n",
    "                metric = metric,\n",
    "                method = \"rpart\", tuneGrid =  tune.dt)\n",
    "fit.dt\n",
    "ggplot(fit.dt)"
   ]
  },
  {
   "cell_type": "markdown",
   "metadata": {},
   "source": [
    "\n",
    "We directly see that in this case, increasing complexity costs lead to decreasing model performance. Such results are somewhat typical for large datasets, where high complexity costs prevent the tree to fully exploit the richness of information. Therefore, we settle for a minimal cp of 0.001.\n",
    "\n",
    "We can also plot the final plot structure.\n",
    "\n"
   ]
  },
  {
   "cell_type": "code",
   "execution_count": null,
   "metadata": {
    "Rmd_chunk_options": "fig.width=15,fig.height=5",
    "autoscroll": false,
    "collapsed": true
   },
   "outputs": [],
   "source": [
    "require(rpart.plot)\n",
    "rpart.plot(fit.dt$finalModel)"
   ]
  },
  {
   "cell_type": "markdown",
   "metadata": {},
   "source": [
    "\n",
    "This plot is usually informative, and gives us a nice intuition how the prediction works in classification trees. However, with that many dummies, it's a bit messy.\n",
    "\n",
    "\n",
    "### Random Forest\n",
    "\n",
    "![](media/m8_rf1.png){width=750px}\n",
    "\n",
    "#### Introduction\n",
    "Finally, we fit another class of models which has gained popularity in the last decade, and proven to be a powerful and versatile prediction technique which performs well in almost every setting, a random forest. It is among the most popular non-neural-network ML algorithms, and by some considered to be a panacea of all data science problems. Some say: \"when you can't think of any algorithm (irrespective of situation), use random forest!\"\"\n",
    "\n",
    "As a continuation of tree-based classification methods, random forests aim at reducing overfitting by introducing randomness via bootstrapping, boosting, and ensemble techniques. It is a type of ensemble learning method, where a group of weak models combine to form a powerful model. The idea here is to create an \"ensemble of classification trees\"\", all grown out of a different bootstrap sample. Having grown a forest of trees, every tree performs a prediction, and the final model prediction is formed by a majority vote of all trees. This idea close to Monte Carlo simulation approaches, tapping in the power of randomness.\n",
    "\n",
    "![](media/m8_rf2.png){width=750px}\n",
    "\n",
    "#### Application\n",
    "In this case, we draw from a number of tunable hyperparameters. First, we tune the number of randomly selected features which are available candidates for every split on a range $[1,k-1]$, where lower values introduce a higher level of randomness to every split. Our second hyperparameter is the minimal number of observations which have to fall in every split, where lower numbers increase the potential precision of splits, but also the risk of overfitting. Finally, we also use the general splitrule as an hyperparameter, where the choice is between i.) a traditional split according to a the optimization of the gini coefficient of the distribution of classes in every split, and ii.) according to the \"Extremely randomized trees\"\" (`ExtraTree`) procedure by Geurts (2016), where adittional randomness is introduced to the selection of splitpoints.\n",
    "\n",
    "Note: We here use the `ranger` instead of the more popular `randomforest` package. For those who wonder: It basically does the same, only faster.\n",
    "\n"
   ]
  },
  {
   "cell_type": "code",
   "execution_count": null,
   "metadata": {
    "autoscroll": false,
    "collapsed": true
   },
   "outputs": [],
   "source": [
    "library(ranger)\n",
    "tune.rf <- expand.grid(mtry = round(seq(1, ncol(x_train)-1, length = 3)),\n",
    "                       min.node.size = c(10, 50, 100),\n",
    "                       splitrule = c(\"gini\", \"extratrees\") )\n",
    "\n",
    "fit.rf <- train(x = x_train,\n",
    "                y = y_train,\n",
    "                trControl = ctrl,\n",
    "                metric = metric,\n",
    "                method = \"ranger\",\n",
    "                importance = \"impurity\", # To define how to measure variable importantce (later more)\n",
    "                num.trees = 25,\n",
    "                tuneGrid =  tune.rf)\n",
    "fit.rf"
   ]
  },
  {
   "cell_type": "code",
   "execution_count": null,
   "metadata": {
    "Rmd_chunk_options": "fig.width=10",
    "autoscroll": false,
    "collapsed": true
   },
   "outputs": [],
   "source": [
    "ggplot(fit.rf)"
   ]
  },
  {
   "cell_type": "markdown",
   "metadata": {},
   "source": [
    "\n",
    "\n",
    "we see that number of randomly selected features per split of roughly half of all available features in all cases maximizes model performance. Same goes for a high minimal number of observations (100) per split. Finally, the ExtraTree procedure first underperforms at a a minimal amount of randomly selected features, but outperforms the traditional gini-based splitrule when the number of available features increases. Such results are typical for large samples, where a high amount of injected randomness tends to make model predictions more robust.\n",
    "\n"
   ]
  },
  {
   "cell_type": "code",
   "execution_count": null,
   "metadata": {
    "autoscroll": false,
    "collapsed": true
   },
   "outputs": [],
   "source": [
    "rm(fit.logit,fit.glmnet,fit.dt,fit.rf)"
   ]
  },
  {
   "cell_type": "markdown",
   "metadata": {},
   "source": [
    "\n",
    "\n",
    "\n",
    "## Final prediction\n",
    "\n",
    "The adittional `caretEnsemble` package also has the `caretList()` function, where one can fit a set of different models jointly. In adittion, it takes care of the indexing for the resamples, so that they are the same for al models. Neath, isnt it? We could have done just and only that from the very beginning. We just did seperate models for illustration before. Note: Be prepared to wait some time.\n",
    "\n",
    "\n",
    "\n",
    "Since we already know the optimal tuning parameters, we can now define them and skip the tuning loop.\n",
    "\n"
   ]
  },
  {
   "cell_type": "code",
   "execution_count": null,
   "metadata": {
    "autoscroll": false,
    "collapsed": true
   },
   "outputs": [],
   "source": [
    "tune.glmnet <- expand.grid(alpha = 0.5, lambda = 0)\n",
    "tune.dt <- expand.grid(cp = 0.001)\n",
    "tune.rf <- expand.grid(mtry = 18, min.node.size = 100, splitrule = \"extratrees\" )"
   ]
  },
  {
   "cell_type": "markdown",
   "metadata": {},
   "source": [
    "\n",
    "ANd lets run the ensemble\n",
    "\n"
   ]
  },
  {
   "cell_type": "code",
   "execution_count": null,
   "metadata": {
    "autoscroll": false,
    "collapsed": true
   },
   "outputs": [],
   "source": [
    "library(caretEnsemble)\n",
    "models <- caretList(x = x_train,\n",
    "                    y = y_train,\n",
    "                    trControl = ctrl,\n",
    "                    metric = metric,\n",
    "                    continue_on_fail = TRUE,\n",
    "                    tuneList = list(logit = caretModelSpec(method = \"glm\",\n",
    "                                                           family = \"binomial\"),\n",
    "                                   elasticnet = caretModelSpec(method = \"glmnet\",\n",
    "                                                               family = \"binomial\",\n",
    "                                                               tuneGrid =  tune.glmnet),\n",
    "                                   dt = caretModelSpec(method = \"rpart\",\n",
    "                                                       tuneGrid =  tune.dt),\n",
    "                                   rf = caretModelSpec(method = \"ranger\",\n",
    "                                                       importance = \"impurity\",\n",
    "                                                       # num.trees = 25,\n",
    "                                                       tuneGrid =  tune.rf)\n",
    "                                   )\n",
    "                    )"
   ]
  },
  {
   "cell_type": "markdown",
   "metadata": {},
   "source": [
    "\n",
    "\n",
    "## Performance Evaluation\n",
    "And done. Now, lets evaluate the results. This evaluation is now on the average prediction of the different folds on the validation fold in the train data (final evaluation will still come later). Lets take a look. We can also plot the model comparison.\n",
    "\n"
   ]
  },
  {
   "cell_type": "code",
   "execution_count": null,
   "metadata": {
    "autoscroll": false,
    "collapsed": true
   },
   "outputs": [],
   "source": [
    "models"
   ]
  },
  {
   "cell_type": "markdown",
   "metadata": {},
   "source": [
    "\n",
    "The last step is to recollect the results from each model and compare them. We here use the `resamples()` function of caret. This can be done because we ran all models within a `caretList`, keeping track of all resamples within the different models and enabling us to compare them. Lets check how the model perform.\n",
    "\n"
   ]
  },
  {
   "cell_type": "code",
   "execution_count": null,
   "metadata": {
    "autoscroll": false,
    "collapsed": true
   },
   "outputs": [],
   "source": [
    "results <- resamples(models)\n",
    "\n",
    "results$values %>%\n",
    "  select(-Resample) %>%\n",
    "  tidy()"
   ]
  },
  {
   "cell_type": "code",
   "execution_count": null,
   "metadata": {
    "Rmd_chunk_options": "fig.width=10",
    "autoscroll": false,
    "collapsed": true
   },
   "outputs": [],
   "source": [
    "bwplot(results)"
   ]
  },
  {
   "cell_type": "markdown",
   "metadata": {},
   "source": [
    "\n",
    "\n",
    "Lets see how similar the models predict on the validation sample.\n",
    "\n"
   ]
  },
  {
   "cell_type": "code",
   "execution_count": null,
   "metadata": {
    "autoscroll": false,
    "collapsed": true
   },
   "outputs": [],
   "source": [
    "modelCor(results)"
   ]
  },
  {
   "cell_type": "markdown",
   "metadata": {},
   "source": [
    "\n",
    "\n",
    "\n",
    "## Evaluation via final out-of-sample prediction\n",
    "Ok, to be as confident as possible, lets do the final evaluation. generally, many ML exercises can be done without it, and it is often common practice to go with the performance in the k-fold crossfalidation. However, I believe this final step should be done, if data permits. Only with this final prediction we expose our model to data it yet was not exposed to, neiter directly nor indirectly.\n",
    "\n",
    "we first let all models predict all models do their prediction on \"test\". We create 2 objects, one for the probability prediction (`type = \"prob\"`), and one for the predicted class of the outcome (where positive means $P \\leq 0.5$). We do so, becuase we need both for different summaries to come.\n",
    "\n"
   ]
  },
  {
   "cell_type": "code",
   "execution_count": null,
   "metadata": {
    "autoscroll": false,
    "collapsed": true
   },
   "outputs": [],
   "source": [
    "models.preds <- data.frame(lapply(models, predict, newdata = x_test))\n",
    "models.preds.prob <- data.frame(lapply(models, predict, newdata = x_test, type = \"prob\"))\n",
    "glimpse(models.preds)\n",
    "glimpse(models.preds.prob)"
   ]
  },
  {
   "cell_type": "markdown",
   "metadata": {},
   "source": [
    "\n",
    "Let's plot the corresponding confusion matrix for all models\n",
    "\n"
   ]
  },
  {
   "cell_type": "code",
   "execution_count": null,
   "metadata": {
    "Rmd_chunk_options": "fig.height=10,fig.width=10",
    "autoscroll": false,
    "collapsed": true
   },
   "outputs": [],
   "source": [
    "cm <- list()\n",
    "cm$logit <- confusionMatrix(factor(models.preds$logit), y_test, positive = \"Yes\")\n",
    "cm$elasticnet <- confusionMatrix(factor(models.preds$elasticnet), y_test, positive = \"Yes\")\n",
    "cm$dt <- confusionMatrix(factor(models.preds$dt), y_test, positive = \"Yes\")\n",
    "cm$rf <- confusionMatrix(factor(models.preds$rf), y_test, positive = \"Yes\")\n",
    "\n",
    "par(mfrow=c(2,2)) # Note: One day find a neath way to make it prettier\n",
    "for(i in 1:length(cm)) {fourfoldplot(cm[[i]]$table, color = c(\"darkred\", \"darkgreen\") ); title(main = names(cm[i]), cex.main = 1.5)}\n",
    ""
   ]
  },
  {
   "cell_type": "markdown",
   "metadata": {},
   "source": [
    "\n",
    "And also the corresponding ROC curve...\n",
    "\n"
   ]
  },
  {
   "cell_type": "code",
   "execution_count": null,
   "metadata": {
    "Rmd_chunk_options": "fig.height=10,fig.width=10",
    "autoscroll": false,
    "collapsed": true
   },
   "outputs": [],
   "source": [
    "library(caTools)\n",
    "# Note: Is kind of ugly. At one point I will try making it prettier with the library \"plotROC\"\"\n",
    "ROC <- list()\n",
    "ROC$logit <- colAUC(models.preds.prob$logit.Yes, y_test, plotROC = F)\n",
    "ROC$elasticnet <- colAUC(models.preds.prob$elasticnet.Yes, y_test, plotROC = F)\n",
    "ROC$dt <- colAUC(models.preds.prob$dt.Yes, y_test, plotROC = F)\n",
    "ROC$rf <- colAUC(models.preds.prob$rf.Yes, y_test, plotROC = F)\n",
    "\n",
    "par(mfrow=c(2,2))\n",
    "for(i in 1:length(ROC)) {colAUC(models.preds.prob[[i*2]], y_test, plotROC = T); title(main = names(ROC[i]), cex.main = 1.5)}"
   ]
  },
  {
   "cell_type": "markdown",
   "metadata": {},
   "source": [
    "\n",
    "So, now only one nice final table for the sake of overview.\n",
    "\n"
   ]
  },
  {
   "cell_type": "code",
   "execution_count": null,
   "metadata": {
    "autoscroll": false,
    "collapsed": true
   },
   "outputs": [],
   "source": [
    "model_eval <- tidy(cm$logit$overall) %>%\n",
    "  select(names) %>%\n",
    "  mutate(Logit = round(cm$logit$overall,3) ) %>%\n",
    "  mutate(ElasticNet = round(cm$elasticnet$overall,3)) %>%\n",
    "  mutate(ClassTree = round(cm$dt$overall,3)) %>%\n",
    "  mutate(RandForest = round(cm$rf$overall,3))\n",
    "\n",
    "model_eval2 <- tidy(cm$logit$byClass) %>%\n",
    "  select(names) %>%\n",
    "  mutate(Logit = round(cm$logit$byClass,3) ) %>%\n",
    "  mutate(ElasticNet = round(cm$elasticnet$byClass,3)) %>%\n",
    "  mutate(ClassTree = round(cm$dt$byClass,3)) %>%\n",
    "  mutate(RandForest = round(cm$rf$byClass,3)) %>%\n",
    "  filter( !(names %in% c(\"AccuracyPValue\", \"McnemarPValue\")) )\n",
    "\n",
    "model_eval_all <- model_eval %>%\n",
    "  rbind(model_eval2) %>%\n",
    "  rbind(c(\"AUC\", round(ROC$logit,3), round(ROC$elasticnet,3), round(ROC$dt,3), round(ROC$rf,3) ))\n",
    "\n",
    "model_eval_all\n",
    "rm(model_eval, model_eval2)"
   ]
  },
  {
   "cell_type": "markdown",
   "metadata": {},
   "source": [
    "\n",
    "\n",
    "\n"
   ]
  }
 ],
 "metadata": {
  "Rmd_header": {
   "author": "Daniel S. Hain (dsh@business.aau.dk)",
   "date": "\today",
   "output": {
    "html_document": {
     "df_print": "paged",
     "number_sections": true,
     "toc": true,
     "toc_float": true
    }
   },
   "title": "ML2: Supervised Machine Learning"
  },
  "kernelspec": {
   "display_name": "R",
   "language": "R",
   "name": "ir"
  },
  "language_info": {
   "codemirror_mode": "r",
   "file_extension": ".r",
   "mimetype": "text/x-r-source",
   "name": "R",
   "pygments_lexer": "r"
  }
 },
 "nbformat": 4,
 "nbformat_minor": 0
}
