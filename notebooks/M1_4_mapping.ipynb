{
 "cells": [
  {
   "cell_type": "markdown",
   "metadata": {},
   "source": [
    "# Mapping around with Python and Leaflet\n",
    "\n",
    "Leaflet is an amazing project used by R and Python and elswhere. It lets you create interactive maps with a number of basemap layers and other cool feature. Maps can then be embedded in web-apps or just used in your notbooks...or even screenshot-captured.\n",
    "\n",
    "In this notebook we explore some of the basic functionality."
   ]
  },
  {
   "cell_type": "markdown",
   "metadata": {},
   "source": [
    "Tech info:\n",
    "\n",
    "If you are on a windows machine and dont have pip installed, start cmd and run:\n",
    "\n",
    "```curl https://bootstrap.pypa.io/get-pip.py | python```\n",
    "\n",
    "\n",
    "Then run\n",
    "\n",
    "```pip install ipywidgets ipyleaflet geopy```\n",
    "\n",
    "\n"
   ]
  },
  {
   "cell_type": "code",
   "execution_count": null,
   "metadata": {
    "collapsed": true
   },
   "outputs": [],
   "source": [
    "# Leaflet controls so called widgets (webdev stuff) and we don't really have to understand that\n",
    "# What you need to know: Load up these libraries\n",
    "# Unfortunately documentation for ipyleaflet (it's a rather new library)\n",
    "\n",
    "# Widgets\n",
    "from ipywidgets import HTML\n",
    "# Leaflet\n",
    "from ipyleaflet import *\n",
    "\n",
    "# and of cause pandas for data manipulation\n",
    "import pandas as pd"
   ]
  },
  {
   "cell_type": "code",
   "execution_count": null,
   "metadata": {
    "collapsed": true
   },
   "outputs": [],
   "source": [
    "# Let's start with a map of copenhagen\n",
    "cph = Map(center=(55.677683, 12.569588), zoom=11)\n",
    "#cph = Map(center=(55.677683, 12.569588), zoom=10, basemap=basemaps.Hydda.Full) # you can add other layers"
   ]
  },
  {
   "cell_type": "code",
   "execution_count": null,
   "metadata": {
    "collapsed": true
   },
   "outputs": [],
   "source": [
    "cph"
   ]
  },
  {
   "cell_type": "code",
   "execution_count": null,
   "metadata": {
    "collapsed": true
   },
   "outputs": [],
   "source": [
    "# If you want, you can save the map as an html file and open in a browser (your data will be embedded)\n",
    "from ipywidgets.embed import embed_minimal_html \n",
    "\n",
    "embed_minimal_html('map.html',views=[z])"
   ]
  },
  {
   "cell_type": "code",
   "execution_count": null,
   "metadata": {
    "collapsed": true
   },
   "outputs": [],
   "source": [
    "# Let's set a marker on our map\n",
    "# we first define it\n",
    "\n",
    "marker = Marker(location=(55.692913, 12.599274), draggable=False)"
   ]
  },
  {
   "cell_type": "code",
   "execution_count": null,
   "metadata": {
    "collapsed": true
   },
   "outputs": [],
   "source": [
    "# And then place it on as a new layer\n",
    "cph.add_layer(marker)"
   ]
  },
  {
   "cell_type": "markdown",
   "metadata": {},
   "source": [
    "Wouldn't it be nice to know what is in the spot where we placed the marker?\n",
    "Sure thing:\n",
    "\n",
    "![havefrue](http://a.bimg.dk/node-images/975/8/452x250-c/8975349-node-image-upload-den-lille-havfrue-til-debat-ks-foto-ren-eriksenjpg.jpg)"
   ]
  },
  {
   "cell_type": "code",
   "execution_count": null,
   "metadata": {
    "collapsed": true
   },
   "outputs": [],
   "source": [
    "# We can create a \"popup\" where the value of the popup is a a bit of HTML code \n",
    "# I disect it below\n",
    "# We then assign the popup to our marker\n",
    "\n",
    "popup = HTML()\n",
    "popup.value = \"The Little Mermaid <img src='https://upload.wikimedia.org/wikipedia/en/thumb/7/7a/Copenhagen_-_the_little_mermaid_statue_-_2013.jpg/1024px-Copenhagen_-_the_little_mermaid_statue_-_2013.jpg' alt='Mermaid'>\"\n",
    "marker.popup = popup"
   ]
  },
  {
   "cell_type": "markdown",
   "metadata": {},
   "source": [
    "HTML: Text, then image, then a short image placeholder text (no rocket science)\n",
    "\n",
    "```HTML\n",
    "\"The Little Mermaid \n",
    "<img src='https://upload.wikimedia.org/wikipedia/en/thumb/7/7a/Copenhagen_-_the_little_mermaid_statue_-_2013.jpg/1024px-Copenhagen_-_the_little_mermaid_statue_-_2013.jpg' \n",
    "     alt='Mermaid'>\"\n",
    "```"
   ]
  },
  {
   "cell_type": "markdown",
   "metadata": {},
   "source": [
    "Let's bring some more points on the map. This time public toilets in CPH you can get this data [here](https://data.kk.dk/dataset/toiletter)"
   ]
  },
  {
   "cell_type": "code",
   "execution_count": null,
   "metadata": {
    "collapsed": true
   },
   "outputs": [],
   "source": [
    "# Now let's try to plot in some very important data\n",
    "\n",
    "# import the json library to deal with json data (more on that later)\n",
    "import json\n",
    "data = json.load(open('data/cph_toilets.json'))"
   ]
  },
  {
   "cell_type": "code",
   "execution_count": null,
   "metadata": {
    "collapsed": true
   },
   "outputs": [],
   "source": [
    "# Transform the data into a layer for our map\n",
    "geo_json = GeoJSON(data=data)"
   ]
  },
  {
   "cell_type": "code",
   "execution_count": null,
   "metadata": {
    "collapsed": true
   },
   "outputs": [],
   "source": [
    "# put it on\n",
    "cph.add_layer(geo_json)"
   ]
  },
  {
   "cell_type": "code",
   "execution_count": null,
   "metadata": {
    "collapsed": true
   },
   "outputs": [],
   "source": [
    "# and remove it again\n",
    "chp.remove_layer(geo_json)"
   ]
  },
  {
   "cell_type": "code",
   "execution_count": null,
   "metadata": {
    "collapsed": true,
    "scrolled": true
   },
   "outputs": [],
   "source": [
    "# We can do better :-)\n",
    "\n",
    "# Let's load up the WC data as a dataframe\n",
    "wc = pd.DataFrame([x['properties'] for x in data['features']])"
   ]
  },
  {
   "cell_type": "markdown",
   "metadata": {},
   "source": [
    "```[x['properties'] for x in data['features']]``` is a list comprehension\n",
    "Python has these amazingly short loop structures built in\n",
    "\n",
    "Read:\n",
    "\n",
    "for each element (here x) in the dictionary \"data\" under the key \"fatures\"\n",
    "take the element and unpack the nested key \"properties\"\n",
    "put all of these in a list\n",
    "\n",
    "YES!!! We can pass a list of dictionaries to Pandas and it will still construct a neat dataframe\n"
   ]
  },
  {
   "cell_type": "code",
   "execution_count": null,
   "metadata": {
    "collapsed": true,
    "scrolled": true
   },
   "outputs": [],
   "source": [
    "# Inspecting the comlumns\n",
    "wc.columns"
   ]
  },
  {
   "cell_type": "markdown",
   "metadata": {},
   "source": [
    "Don't get scared: The next cell looks a bit tricky but it is not. We will now iterate over all rows of our dataframe and take out the location as well as create popup labels. All of that will be put into an empty list which we define in the very first row.\n",
    "In the last step of the loop we are adding our circles to the map\n"
   ]
  },
  {
   "cell_type": "code",
   "execution_count": null,
   "metadata": {
    "collapsed": true
   },
   "outputs": [],
   "source": [
    "circles = []\n",
    "for x in wc.iterrows():\n",
    "    loc = (x[1]['latitude'], x[1]['longitude'])\n",
    "    message = HTML()\n",
    "    message.value = x[1]['toilet_lokalitet'] + '<br />' + x[1]['adresse']\n",
    "    c = Circle(location=loc, radius=3, color = \"#4CB391\", fill_opacity = 0.4, popup = message)\n",
    "    circles.append(c)\n",
    "    cph.add_layer(c)"
   ]
  },
  {
   "cell_type": "code",
   "execution_count": null,
   "metadata": {
    "collapsed": true
   },
   "outputs": [],
   "source": [
    "# We can also remove all of the by calling\n",
    "for c in circles:\n",
    "    m.remove_layer(c)"
   ]
  },
  {
   "cell_type": "markdown",
   "metadata": {},
   "source": [
    "## Geocoding\n",
    "\n",
    "Geocoding is super important and means simply transforming address data into geocoordinates\n",
    "Reverse geocoding is self explanatory"
   ]
  },
  {
   "cell_type": "code",
   "execution_count": null,
   "metadata": {
    "collapsed": true
   },
   "outputs": [],
   "source": [
    "# We will need to install and import geopy\n",
    "# Geopy supports a large number of services (Google maps, Bing, Baidu etc.)\n",
    "# We will use the Open Street Maps Nominatim (since that one doesn't require signing in and an API key)\n",
    "\n",
    "from geopy.geocoders import Nominatim\n",
    "geolocator = Nominatim(user_agent=\"SDS_geocode_teaching\")"
   ]
  },
  {
   "cell_type": "code",
   "execution_count": null,
   "metadata": {
    "collapsed": true
   },
   "outputs": [],
   "source": [
    "# I created a little dataset of pubs in Aalborg\n",
    "bodega = pd.read_csv('data/bodega.txt', sep=';')"
   ]
  },
  {
   "cell_type": "code",
   "execution_count": null,
   "metadata": {
    "collapsed": true
   },
   "outputs": [],
   "source": [
    "bodega"
   ]
  },
  {
   "cell_type": "code",
   "execution_count": null,
   "metadata": {
    "collapsed": true
   },
   "outputs": [],
   "source": [
    "# Not th emost elegant approach but it does work and is easy to read\n",
    "# Simple iteration over the rows and geocoding\n",
    "\n",
    "lonlist = []\n",
    "latlist = []\n",
    "\n",
    "for i in bodega.iterrows():\n",
    "    loc = geolocator.geocode(i[1]['address'])\n",
    "    lonlist.append(loc.longitude)\n",
    "    latlist.append(loc.latitude)"
   ]
  },
  {
   "cell_type": "code",
   "execution_count": null,
   "metadata": {
    "collapsed": true
   },
   "outputs": [],
   "source": [
    "# Enter the values\n",
    "\n",
    "bodega['lat'] = latlist\n",
    "bodega['lon'] = lonlist"
   ]
  },
  {
   "cell_type": "code",
   "execution_count": null,
   "metadata": {
    "collapsed": true
   },
   "outputs": [],
   "source": [
    "bodega"
   ]
  },
  {
   "cell_type": "code",
   "execution_count": null,
   "metadata": {
    "collapsed": true
   },
   "outputs": [],
   "source": [
    "# A bit of a different map\n",
    "\n",
    "aalborg = Map(center=(57.042340, 9.938773), zoom=14, basemap=basemaps.Stamen.Watercolor)"
   ]
  },
  {
   "cell_type": "code",
   "execution_count": null,
   "metadata": {
    "collapsed": true
   },
   "outputs": [],
   "source": [
    "aalborg"
   ]
  },
  {
   "cell_type": "code",
   "execution_count": null,
   "metadata": {
    "collapsed": true
   },
   "outputs": [],
   "source": [
    "# Let's do what we practiced above\n",
    "\n",
    "circles = []\n",
    "\n",
    "for x in bodega.iterrows():\n",
    "    loc = (x[1]['lat'], x[1]['lon'])\n",
    "    message = HTML()\n",
    "    message.value = x[1]['bodega'] + '<br />' + x[1]['address']\n",
    "    c = Circle(location=loc, radius=5, color = \"#133366\", fill_opacity = 0.6, popup = message)\n",
    "    circles.append(c)\n",
    "    aalborg.add_layer(c)"
   ]
  },
  {
   "cell_type": "code",
   "execution_count": null,
   "metadata": {
    "collapsed": true
   },
   "outputs": [],
   "source": [
    "# If you don't like the pubs they can go\n",
    "for c in circles:\n",
    "    aalborg.remove_layer(c)"
   ]
  },
  {
   "cell_type": "code",
   "execution_count": null,
   "metadata": {
    "collapsed": true
   },
   "outputs": [],
   "source": []
  }
 ],
 "metadata": {
  "kernelspec": {
   "display_name": "Python 3",
   "language": "python",
   "name": "python3"
  },
  "language_info": {
   "codemirror_mode": {
    "name": "ipython",
    "version": 3
   },
   "file_extension": ".py",
   "mimetype": "text/x-python",
   "name": "python",
   "nbconvert_exporter": "python",
   "pygments_lexer": "ipython3",
   "version": "3.6.3"
  }
 },
 "nbformat": 4,
 "nbformat_minor": 2
}
